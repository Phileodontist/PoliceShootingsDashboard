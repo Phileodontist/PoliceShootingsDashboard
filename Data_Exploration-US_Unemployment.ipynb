{
 "cells": [
  {
   "cell_type": "markdown",
   "metadata": {},
   "source": [
    "# Data Exploration for Police Shooting Data\n",
    "\n",
    "**[Synopsis] The following explores the US Unemployment dataset pertaining to the Police Shooting Dashboard**\n",
    "\n",
    "**Reference**:\n",
    "* [US Unemployment API](https://api.careeronestop.org/api-explorer/home/index/UnEmployment_GetUnEmploymentType)\n",
    "\n",
    "Using the following endpoints:\n",
    "* /v1/unemployment/{userId}/{location}/{unemploymentType}\n",
    "\n",
    "**Example**:\n",
    "* https://api.careeronestop.org/v1/unemployment/{userId}/CA/county\n",
    "\n",
    "*****"
   ]
  },
  {
   "cell_type": "code",
   "execution_count": 1,
   "metadata": {},
   "outputs": [
    {
     "data": {
      "text/plain": [
       "['config.ini']"
      ]
     },
     "execution_count": 1,
     "metadata": {},
     "output_type": "execute_result"
    }
   ],
   "source": [
    "import requests\n",
    "import configparser\n",
    "config = configparser.ConfigParser()\n",
    "config.read('config.ini')"
   ]
  },
  {
   "cell_type": "code",
   "execution_count": 2,
   "metadata": {},
   "outputs": [],
   "source": [
    "from pyspark import SparkContext\n",
    "from pyspark.sql import SparkSession\n",
    "from pyspark.sql import functions as func\n",
    "from pyspark.sql.types import StructType, StructField, StringType, DateType, IntegerType, BooleanType, FloatType\n",
    "\n",
    "spark = SparkSession.builder.master('local[*]').appName('DataExploration').getOrCreate()"
   ]
  },
  {
   "cell_type": "markdown",
   "metadata": {},
   "source": [
    "### US Cities Dataset"
   ]
  },
  {
   "cell_type": "code",
   "execution_count": 3,
   "metadata": {},
   "outputs": [
    {
     "name": "stdout",
     "output_type": "stream",
     "text": [
      "+--------+--------------------+-------------+--------------------+\n",
      "|state_id|          state_name|         city|         county_name|\n",
      "+--------+--------------------+-------------+--------------------+\n",
      "|      NY|            New York|     New York|            New York|\n",
      "|      CA|          California|  Los Angeles|         Los Angeles|\n",
      "|      IL|            Illinois|      Chicago|                Cook|\n",
      "|      FL|             Florida|        Miami|          Miami-Dade|\n",
      "|      TX|               Texas|       Dallas|              Dallas|\n",
      "|      PA|        Pennsylvania| Philadelphia|        Philadelphia|\n",
      "|      TX|               Texas|      Houston|              Harris|\n",
      "|      GA|             Georgia|      Atlanta|              Fulton|\n",
      "|      DC|District of Columbia|   Washington|District of Columbia|\n",
      "|      MA|       Massachusetts|       Boston|             Suffolk|\n",
      "|      AZ|             Arizona|      Phoenix|            Maricopa|\n",
      "|      WA|          Washington|      Seattle|                King|\n",
      "|      CA|          California|San Francisco|       San Francisco|\n",
      "|      MI|            Michigan|      Detroit|               Wayne|\n",
      "|      CA|          California|    San Diego|           San Diego|\n",
      "|      MN|           Minnesota|  Minneapolis|            Hennepin|\n",
      "|      FL|             Florida|        Tampa|        Hillsborough|\n",
      "|      CO|            Colorado|       Denver|              Denver|\n",
      "|      NY|            New York|     Brooklyn|               Kings|\n",
      "|      NY|            New York|       Queens|              Queens|\n",
      "+--------+--------------------+-------------+--------------------+\n",
      "only showing top 20 rows\n",
      "\n"
     ]
    }
   ],
   "source": [
    "# Creating Dataframe and Temp View\n",
    "usCitiesDF = spark.read.option('header', 'True').option('inferSchema', 'true').csv(config['pathways']['usCities'])\n",
    "usCitiesDF.createOrReplaceTempView('usCities')\n",
    "\n",
    "# Relevant Columns, \n",
    "usCitiesDF.select('state_id', 'state_name', 'city', 'county_name').show()"
   ]
  },
  {
   "cell_type": "markdown",
   "metadata": {},
   "source": [
    "## Test out Unemployment API"
   ]
  },
  {
   "cell_type": "code",
   "execution_count": 4,
   "metadata": {},
   "outputs": [],
   "source": [
    "headersAuth = {\n",
    "    'Authorization': 'Bearer '+ config['unemploymentAPI']['unemploymentAPIKey']\n",
    "}"
   ]
  },
  {
   "cell_type": "markdown",
   "metadata": {},
   "source": [
    "### Preview of Unemployment Dataset"
   ]
  },
  {
   "cell_type": "code",
   "execution_count": 5,
   "metadata": {},
   "outputs": [
    {
     "data": {
      "text/plain": [
       "[{'AreaName': 'Alameda County',\n",
       "  'UnEmpCount': '52111',\n",
       "  'UnEmpRate': '6.5',\n",
       "  'AreaType': '04',\n",
       "  'Stfips': '06',\n",
       "  'AreaID': '000001'},\n",
       " {'AreaName': 'Alpine County',\n",
       "  'UnEmpCount': '46',\n",
       "  'UnEmpRate': '7.6',\n",
       "  'AreaType': '04',\n",
       "  'Stfips': '06',\n",
       "  'AreaID': '000003'},\n",
       " {'AreaName': 'Amador County',\n",
       "  'UnEmpCount': '1074',\n",
       "  'UnEmpRate': '7.4',\n",
       "  'AreaType': '04',\n",
       "  'Stfips': '06',\n",
       "  'AreaID': '000005'}]"
      ]
     },
     "execution_count": 5,
     "metadata": {},
     "output_type": "execute_result"
    }
   ],
   "source": [
    "# \n",
    "endPointTemplate = 'https://api.careeronestop.org/v1/unemployment/{}/{}/{}'\n",
    "url = endPointTemplate.format(config['unemploymentAPI']['unemploymentUserID'], 'CA', 'county')\n",
    "response = requests.get(url, headers=headersAuth, verify=True)\n",
    "response = response.json()['CountyList']\n",
    "response[:3]"
   ]
  },
  {
   "cell_type": "code",
   "execution_count": 6,
   "metadata": {
    "scrolled": true
   },
   "outputs": [
    {
     "name": "stdout",
     "output_type": "stream",
     "text": [
      "+------+----------------+-----+--------+------+----------+---------+\n",
      "|AreaID|        AreaName|State|AreaType|Stfips|UnEmpCount|UnEmpRate|\n",
      "+------+----------------+-----+--------+------+----------+---------+\n",
      "|000001|  Alameda County|   CA|      04|    06|     52111|      6.5|\n",
      "|000003|   Alpine County|   CA|      04|    06|        46|      7.6|\n",
      "|000005|   Amador County|   CA|      04|    06|      1074|      7.4|\n",
      "|000007|    Butte County|   CA|      04|    06|      6917|      7.5|\n",
      "|000009|Calaveras County|   CA|      04|    06|      1351|      6.3|\n",
      "+------+----------------+-----+--------+------+----------+---------+\n",
      "only showing top 5 rows\n",
      "\n"
     ]
    }
   ],
   "source": [
    "# Convert response to RDD to Dataframe\n",
    "caUEDataRDD = spark.sparkContext.parallelize(response)\n",
    "caUEDataDF = spark.read.json(caUEDataRDD)\n",
    "caUEDataDF = caUEDataDF.withColumn(\"State\", func.lit('CA'))\n",
    "caUEDataDF.select('AreaID', 'AreaName', 'State', 'AreaType', 'Stfips', 'UnEmpCount', 'UnEmpRate').show(5)"
   ]
  },
  {
   "cell_type": "code",
   "execution_count": 7,
   "metadata": {},
   "outputs": [
    {
     "name": "stdout",
     "output_type": "stream",
     "text": [
      "+--------+-----------+------------------+-----------------+\n",
      "|state_id|county_name|unemployment_count|unemployment_rate|\n",
      "+--------+-----------+------------------+-----------------+\n",
      "|      CA|    Alameda|             52111|              6.5|\n",
      "|      CA|     Alpine|                46|              7.6|\n",
      "|      CA|     Amador|              1074|              7.4|\n",
      "|      CA|      Butte|              6917|              7.5|\n",
      "|      CA|  Calaveras|              1351|              6.3|\n",
      "+--------+-----------+------------------+-----------------+\n",
      "only showing top 5 rows\n",
      "\n"
     ]
    }
   ],
   "source": [
    "# Selecting relevant columns\n",
    "caUEDataDF.createOrReplaceTempView(\"caUE\")\n",
    "caUEDataDF = spark.sql(\"\"\"\n",
    "        SELECT \n",
    "            State as state_id, \n",
    "            REPLACE(AreaName, ' County', '') as county_name,\n",
    "            UnEmpCount as unemployment_count,\n",
    "            UnEmpRate as unemployment_rate\n",
    "        FROM caUE\n",
    "        \"\"\")\n",
    "\n",
    "caUEDataDF.createOrReplaceTempView(\"caUE\")\n",
    "caUEDataDF.show(5)"
   ]
  },
  {
   "cell_type": "markdown",
   "metadata": {},
   "source": [
    "### Joining US Cities and US Unemployment Data"
   ]
  },
  {
   "cell_type": "code",
   "execution_count": 8,
   "metadata": {
    "scrolled": false
   },
   "outputs": [
    {
     "name": "stdout",
     "output_type": "stream",
     "text": [
      "+--------+----------+---------------+------------------+-----------------+\n",
      "|state_id|state_name|    county_name|unemployment_count|unemployment_rate|\n",
      "+--------+----------+---------------+------------------+-----------------+\n",
      "|      CA|California|           Kern|             40925|             11.1|\n",
      "|      CA|California|  San Francisco|             29475|              5.4|\n",
      "|      CA|California|       Monterey|             21601|             10.4|\n",
      "|      CA|California|San Luis Obispo|              7603|              5.8|\n",
      "|      CA|California|           Mono|               636|              7.8|\n",
      "|      CA|California|         Madera|              5857|              9.7|\n",
      "|      CA|California|         Sutter|              4457|             10.1|\n",
      "|      CA|California|         Fresno|             43577|              9.9|\n",
      "|      CA|California|       Mariposa|               630|              9.4|\n",
      "|      CA|California|      Calaveras|              1351|              6.3|\n",
      "|      CA|California|         Merced|             13145|             11.4|\n",
      "|      CA|California|         Tulare|             22377|             11.6|\n",
      "|      CA|California|      San Mateo|             21277|                5|\n",
      "|      CA|California|       Imperial|             10235|             15.7|\n",
      "|      CA|California|          Kings|              5816|             10.5|\n",
      "|      CA|California|        Ventura|             26113|              6.4|\n",
      "|      CA|California|      Del Norte|               771|              8.3|\n",
      "|      CA|California|      El Dorado|              5738|              6.3|\n",
      "|      CA|California|         Alpine|                46|              7.6|\n",
      "|      CA|California|     Santa Cruz|             10577|              8.1|\n",
      "|      CA|California|         Shasta|              5533|              7.5|\n",
      "|      CA|California|        Alameda|             52111|              6.5|\n",
      "|      CA|California|         Placer|             10180|              5.5|\n",
      "|      CA|California|         Amador|              1074|              7.4|\n",
      "|      CA|California|         Tehama|              1998|              7.9|\n",
      "|      CA|California|     Stanislaus|             21055|              8.8|\n",
      "|      CA|California|           Yolo|              6812|              6.4|\n",
      "|      CA|California|          Butte|              6917|              7.5|\n",
      "|      CA|California|     San Benito|              2578|              8.2|\n",
      "|      CA|California|         Solano|             15663|              7.8|\n",
      "+--------+----------+---------------+------------------+-----------------+\n",
      "only showing top 30 rows\n",
      "\n"
     ]
    }
   ],
   "source": [
    "spark.sql(\"\"\"\n",
    "    SELECT\n",
    "        DISTINCT\n",
    "        usc.state_id,\n",
    "        usc.state_name,\n",
    "        usc.county_name,\n",
    "        usue.unemployment_count,\n",
    "        usue.unemployment_rate\n",
    "    FROM usCities as usc\n",
    "    JOIN caUE as usue\n",
    "    on usc.county_name = usue.county_name\n",
    "    WHERE usc.state_id = 'CA'\n",
    "\"\"\").show(30)"
   ]
  },
  {
   "cell_type": "markdown",
   "metadata": {},
   "source": [
    "### US Demographics Dataset"
   ]
  },
  {
   "cell_type": "code",
   "execution_count": 9,
   "metadata": {},
   "outputs": [
    {
     "name": "stdout",
     "output_type": "stream",
     "text": [
      "+----------+--------------+----------+--------------------+------+-------+-------+----+\n",
      "|state_name|   county_name|population|                race|   sex|min_age|max_age|year|\n",
      "+----------+--------------+----------+--------------------+------+-------+-------+----+\n",
      "|   Alabama|Autauga County|      7473|BLACK OR AFRICAN ...|  null|   null|   null|2000|\n",
      "|   Alabama|Autauga County|         7|SOME OTHER RACE A...|Female|   15.0|   17.0|2000|\n",
      "|   Alabama|Autauga County|       452|         WHITE ALONE|  Male|   18.0|   19.0|2000|\n",
      "|   Alabama|Autauga County|         2|         ASIAN ALONE|Female|   20.0|   20.0|2000|\n",
      "|   Alabama|Autauga County|         9|AMERICAN INDIAN A...|  Male|   35.0|   39.0|2000|\n",
      "|   Alabama|Autauga County|         0|         ASIAN ALONE|Female|   60.0|   61.0|2000|\n",
      "|   Alabama|Autauga County|         1|         ASIAN ALONE|  Male|   10.0|   14.0|2000|\n",
      "|   Alabama|Autauga County|        10|   TWO OR MORE RACES|  Male|   30.0|   34.0|2000|\n",
      "|   Alabama|Autauga County|       781|         WHITE ALONE|Female|   15.0|   17.0|2000|\n",
      "|   Alabama|Autauga County|         2|   TWO OR MORE RACES|Female|   75.0|   79.0|2000|\n",
      "|   Alabama|Autauga County|       697|                null|Female|   22.0|   24.0|2000|\n",
      "|   Alabama|Autauga County|         0|SOME OTHER RACE A...|Female|   65.0|   66.0|2000|\n",
      "|   Alabama|Autauga County|       241|                null|  Male|   21.0|   21.0|2000|\n",
      "|   Alabama|Autauga County|       689|                null|  Male|   22.0|   24.0|2000|\n",
      "|   Alabama|Autauga County|       144|         WHITE ALONE|  Male|   80.0|   84.0|2000|\n",
      "|   Alabama|Autauga County|         6|SOME OTHER RACE A...|Female|   25.0|   29.0|2000|\n",
      "|   Alabama|Autauga County|       271|BLACK OR AFRICAN ...|  Male|   40.0|   44.0|2000|\n",
      "|   Alabama|Autauga County|        22|   TWO OR MORE RACES|Female|   null|    5.0|2000|\n",
      "|   Alabama|Autauga County|      1124|         WHITE ALONE|Female|   50.0|   54.0|2000|\n",
      "|   Alabama|Autauga County|       473|                null|Female|   67.0|   69.0|2000|\n",
      "+----------+--------------+----------+--------------------+------+-------+-------+----+\n",
      "only showing top 20 rows\n",
      "\n"
     ]
    }
   ],
   "source": [
    "# Creating Dataframe and Temp View\n",
    "usDemoDF = spark.read.option('header', 'True').option('inferSchema', 'true').csv(config['pathways']['usDemographics'])\n",
    "usDemoDF.createOrReplaceTempView('usDemo')\n",
    "\n",
    "# Relevant Columns, \n",
    "spark.sql(\"SELECT * FROM usDemo\").show()"
   ]
  },
  {
   "cell_type": "code",
   "execution_count": 10,
   "metadata": {},
   "outputs": [
    {
     "name": "stdout",
     "output_type": "stream",
     "text": [
      "+----------+-----------+----------------+------+----------+\n",
      "|state_name|county_name|            race|   sex|population|\n",
      "+----------+-----------+----------------+------+----------+\n",
      "|   Alabama|    Autauga| American Indian|Female|       122|\n",
      "|   Alabama|    Autauga| American Indian|  Male|       106|\n",
      "|   Alabama|    Autauga|           Asian|Female|       262|\n",
      "|   Alabama|    Autauga|           Asian|  Male|       184|\n",
      "|   Alabama|    Autauga|African American|Female|      4748|\n",
      "|   Alabama|    Autauga|African American|  Male|      4151|\n",
      "|   Alabama|    Autauga| Native Hawaiian|Female|        12|\n",
      "|   Alabama|    Autauga| Native Hawaiian|  Male|        20|\n",
      "|   Alabama|    Autauga|           Other|  Male|       212|\n",
      "|   Alabama|    Autauga|           Other|Female|       207|\n",
      "|   Alabama|    Autauga|           Mixed|  Male|       322|\n",
      "|   Alabama|    Autauga|           Mixed|Female|       394|\n",
      "|   Alabama|    Autauga|           White|Female|     20152|\n",
      "|   Alabama|    Autauga|           White|  Male|     19549|\n",
      "|   Alabama|    Baldwin| American Indian|  Male|       566|\n",
      "|   Alabama|    Baldwin| American Indian|Female|       582|\n",
      "|   Alabama|    Baldwin|           Asian|  Male|       491|\n",
      "|   Alabama|    Baldwin|           Asian|Female|       774|\n",
      "|   Alabama|    Baldwin|African American|Female|      8085|\n",
      "|   Alabama|    Baldwin|African American|  Male|      7615|\n",
      "+----------+-----------+----------------+------+----------+\n",
      "only showing top 20 rows\n",
      "\n"
     ]
    }
   ],
   "source": [
    "cleanUSDemo = spark.sql(\"\"\"\n",
    "    SELECT \n",
    "        state_name, replace(county_name, ' County', '') as county_name,\n",
    "            CASE \n",
    "                WHEN race like 'AMERICAN INDIAN%' then 'American Indian'\n",
    "                WHEN race like 'SOME OTHER RACE%' then 'Other'\n",
    "                WHEN race like 'WHITE%' then 'White'\n",
    "                WHEN race like 'ASIAN%' then 'Asian'\n",
    "                WHEN race like 'NATIVE HAWAIIAN%' then 'Native Hawaiian'\n",
    "                WHEN race like 'TWO OR MORE%' then 'Mixed'\n",
    "                WHEN race like 'BLACK%' then 'African American'\n",
    "            END as race,\n",
    "            sex,\n",
    "            sum(population) as population\n",
    "    FROM usDemo\n",
    "    WHERE year = '2010' AND race is NOT NULL AND sex is NOT NULL \n",
    "                  AND min_age is NOT NULL AND max_age is NOT NULL\n",
    "    GROUP BY state_name, county_name, race, sex\n",
    "    ORDER BY state_name, county_name, race\n",
    "\"\"\")\n",
    "\n",
    "cleanUSDemo.createOrReplaceTempView('usDemoClean')\n",
    "cleanUSDemo.show()"
   ]
  },
  {
   "cell_type": "code",
   "execution_count": 11,
   "metadata": {},
   "outputs": [
    {
     "name": "stdout",
     "output_type": "stream",
     "text": [
      "+----------+-----------+----------------+------+----------+\n",
      "|state_name|county_name|            race|   sex|population|\n",
      "+----------+-----------+----------------+------+----------+\n",
      "|   Alabama|    Autauga| American Indian|  Male|       106|\n",
      "|   Alabama|    Autauga| American Indian|Female|       122|\n",
      "|   Alabama|    Autauga|           Asian|Female|       262|\n",
      "|   Alabama|    Autauga|           Asian|  Male|       184|\n",
      "|   Alabama|    Autauga|African American|Female|      4748|\n",
      "+----------+-----------+----------------+------+----------+\n",
      "only showing top 5 rows\n",
      "\n"
     ]
    }
   ],
   "source": [
    "spark.sql(\"SELECT * from usDemoClean\").show(5)"
   ]
  },
  {
   "cell_type": "markdown",
   "metadata": {},
   "source": [
    "### Joining US Unemployment Data and US population"
   ]
  },
  {
   "cell_type": "code",
   "execution_count": 49,
   "metadata": {},
   "outputs": [
    {
     "name": "stdout",
     "output_type": "stream",
     "text": [
      "+----------+-----------+----------------+----------+------------------+-----------------+\n",
      "|state_name|county_name|            race|population|unemployment_count|unemployment_rate|\n",
      "+----------+-----------+----------------+----------+------------------+-----------------+\n",
      "|California|     Plumas|African American|       179|               867|               12|\n",
      "|California|     Plumas| American Indian|       515|               867|               12|\n",
      "|California|     Plumas|           Asian|       126|               867|               12|\n",
      "|California|     Plumas|           Mixed|       636|               867|               12|\n",
      "|California|     Plumas| Native Hawaiian|        18|               867|               12|\n",
      "|California|     Plumas|           Other|       556|               867|               12|\n",
      "|California|     Plumas|           White|     16670|               867|               12|\n",
      "|California|      Kings|African American|     10372|              5816|             10.5|\n",
      "|California|      Kings| American Indian|      2311|              5816|             10.5|\n",
      "|California|      Kings|           Asian|      5209|              5816|             10.5|\n",
      "+----------+-----------+----------------+----------+------------------+-----------------+\n",
      "only showing top 10 rows\n",
      "\n"
     ]
    }
   ],
   "source": [
    "spark.sql(\"\"\"\n",
    "    WITH\n",
    "        demo as (\n",
    "                SELECT\n",
    "                    usDC.state_name,\n",
    "                    usDC.county_name,\n",
    "                    usDC.race,\n",
    "                    sum(usDC.population) as population\n",
    "                FROM usDemoClean AS usDC\n",
    "                WHERE usDC.state_name = 'California'\n",
    "                GROUP BY usDC.state_name, usDC.county_name, usDC.race\n",
    "                ORDER BY state_name, county_name, race\n",
    "        )\n",
    "    SELECT\n",
    "        demo.state_name,\n",
    "        demo.county_name,\n",
    "        demo.race,\n",
    "        demo.population,\n",
    "        usue.unemployment_count,\n",
    "        usue.unemployment_rate\n",
    "    FROM demo\n",
    "    JOIN caUE as usue\n",
    "    on demo.county_name = usue.county_name\n",
    "\"\"\").show(10)"
   ]
  }
 ],
 "metadata": {
  "kernelspec": {
   "display_name": "Python 3",
   "language": "python",
   "name": "python3"
  },
  "language_info": {
   "codemirror_mode": {
    "name": "ipython",
    "version": 3
   },
   "file_extension": ".py",
   "mimetype": "text/x-python",
   "name": "python",
   "nbconvert_exporter": "python",
   "pygments_lexer": "ipython3",
   "version": "3.6.9"
  }
 },
 "nbformat": 4,
 "nbformat_minor": 2
}
