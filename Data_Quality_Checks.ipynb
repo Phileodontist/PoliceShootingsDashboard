{
 "cells": [
  {
   "cell_type": "markdown",
   "metadata": {},
   "source": [
    "# Performs Data Quality Checks"
   ]
  },
  {
   "cell_type": "code",
   "execution_count": 7,
   "metadata": {},
   "outputs": [
    {
     "data": {
      "text/plain": [
       "['config.ini']"
      ]
     },
     "execution_count": 7,
     "metadata": {},
     "output_type": "execute_result"
    }
   ],
   "source": [
    "import os\n",
    "import sys\n",
    "import unittest\n",
    "import configparser\n",
    "import psycopg2\n",
    "import psycopg2.extras\n",
    "from sql_queries import prod_tables\n",
    "\n",
    "config = configparser.ConfigParser()\n",
    "config.read('config.ini')"
   ]
  },
  {
   "cell_type": "code",
   "execution_count": 37,
   "metadata": {
    "collapsed": true
   },
   "outputs": [
    {
     "ename": "OperationalError",
     "evalue": "could not translate host name \"database-1.c2r3bciomarw.us-west-2.rds.amazonaws.com\" to address: Name or service not known\n",
     "output_type": "error",
     "traceback": [
      "\u001b[0;31m---------------------------------------------------------------------------\u001b[0m",
      "\u001b[0;31mOperationalError\u001b[0m                          Traceback (most recent call last)",
      "\u001b[0;32m<ipython-input-37-90dab6b14ea4>\u001b[0m in \u001b[0;36m<module>\u001b[0;34m\u001b[0m\n\u001b[1;32m      3\u001b[0m \u001b[0mpassword\u001b[0m \u001b[0;34m=\u001b[0m \u001b[0mconfig\u001b[0m\u001b[0;34m.\u001b[0m\u001b[0mget\u001b[0m\u001b[0;34m(\u001b[0m\u001b[0;34m'RDS'\u001b[0m\u001b[0;34m,\u001b[0m\u001b[0;34m'password'\u001b[0m\u001b[0;34m)\u001b[0m\u001b[0;34m\u001b[0m\u001b[0;34m\u001b[0m\u001b[0m\n\u001b[1;32m      4\u001b[0m \u001b[0mdatabase\u001b[0m \u001b[0;34m=\u001b[0m \u001b[0mconfig\u001b[0m\u001b[0;34m.\u001b[0m\u001b[0mget\u001b[0m\u001b[0;34m(\u001b[0m\u001b[0;34m'RDS'\u001b[0m\u001b[0;34m,\u001b[0m\u001b[0;34m'database'\u001b[0m\u001b[0;34m)\u001b[0m\u001b[0;34m\u001b[0m\u001b[0;34m\u001b[0m\u001b[0m\n\u001b[0;32m----> 5\u001b[0;31m \u001b[0mdb\u001b[0m \u001b[0;34m=\u001b[0m \u001b[0mpsycopg2\u001b[0m\u001b[0;34m.\u001b[0m\u001b[0mconnect\u001b[0m\u001b[0;34m(\u001b[0m\u001b[0mhost\u001b[0m\u001b[0;34m=\u001b[0m\u001b[0mhost\u001b[0m\u001b[0;34m,\u001b[0m \u001b[0muser\u001b[0m\u001b[0;34m=\u001b[0m\u001b[0musername\u001b[0m\u001b[0;34m,\u001b[0m \u001b[0mpassword\u001b[0m\u001b[0;34m=\u001b[0m\u001b[0mpassword\u001b[0m\u001b[0;34m,\u001b[0m \u001b[0mdatabase\u001b[0m\u001b[0;34m=\u001b[0m\u001b[0mdatabase\u001b[0m\u001b[0;34m)\u001b[0m\u001b[0;34m\u001b[0m\u001b[0;34m\u001b[0m\u001b[0m\n\u001b[0m\u001b[1;32m      6\u001b[0m \u001b[0mcurr\u001b[0m \u001b[0;34m=\u001b[0m \u001b[0mdb\u001b[0m\u001b[0;34m.\u001b[0m\u001b[0mcursor\u001b[0m\u001b[0;34m(\u001b[0m\u001b[0mcursor_factory\u001b[0m\u001b[0;34m=\u001b[0m\u001b[0mpsycopg2\u001b[0m\u001b[0;34m.\u001b[0m\u001b[0mextras\u001b[0m\u001b[0;34m.\u001b[0m\u001b[0mDictCursor\u001b[0m\u001b[0;34m)\u001b[0m\u001b[0;34m\u001b[0m\u001b[0;34m\u001b[0m\u001b[0m\n\u001b[1;32m      7\u001b[0m \u001b[0mcurr\u001b[0m\u001b[0;34m.\u001b[0m\u001b[0mexecute\u001b[0m\u001b[0;34m(\u001b[0m\u001b[0;34m\"SELECT COUNT(*) FROM {}\"\u001b[0m\u001b[0;34m.\u001b[0m\u001b[0mformat\u001b[0m\u001b[0;34m(\u001b[0m\u001b[0mtable\u001b[0m\u001b[0;34m)\u001b[0m\u001b[0;34m)\u001b[0m\u001b[0;34m\u001b[0m\u001b[0;34m\u001b[0m\u001b[0m\n",
      "\u001b[0;32m~/.local/lib/python3.6/site-packages/psycopg2/__init__.py\u001b[0m in \u001b[0;36mconnect\u001b[0;34m(dsn, connection_factory, cursor_factory, **kwargs)\u001b[0m\n\u001b[1;32m    125\u001b[0m \u001b[0;34m\u001b[0m\u001b[0m\n\u001b[1;32m    126\u001b[0m     \u001b[0mdsn\u001b[0m \u001b[0;34m=\u001b[0m \u001b[0m_ext\u001b[0m\u001b[0;34m.\u001b[0m\u001b[0mmake_dsn\u001b[0m\u001b[0;34m(\u001b[0m\u001b[0mdsn\u001b[0m\u001b[0;34m,\u001b[0m \u001b[0;34m**\u001b[0m\u001b[0mkwargs\u001b[0m\u001b[0;34m)\u001b[0m\u001b[0;34m\u001b[0m\u001b[0;34m\u001b[0m\u001b[0m\n\u001b[0;32m--> 127\u001b[0;31m     \u001b[0mconn\u001b[0m \u001b[0;34m=\u001b[0m \u001b[0m_connect\u001b[0m\u001b[0;34m(\u001b[0m\u001b[0mdsn\u001b[0m\u001b[0;34m,\u001b[0m \u001b[0mconnection_factory\u001b[0m\u001b[0;34m=\u001b[0m\u001b[0mconnection_factory\u001b[0m\u001b[0;34m,\u001b[0m \u001b[0;34m**\u001b[0m\u001b[0mkwasync\u001b[0m\u001b[0;34m)\u001b[0m\u001b[0;34m\u001b[0m\u001b[0;34m\u001b[0m\u001b[0m\n\u001b[0m\u001b[1;32m    128\u001b[0m     \u001b[0;32mif\u001b[0m \u001b[0mcursor_factory\u001b[0m \u001b[0;32mis\u001b[0m \u001b[0;32mnot\u001b[0m \u001b[0;32mNone\u001b[0m\u001b[0;34m:\u001b[0m\u001b[0;34m\u001b[0m\u001b[0;34m\u001b[0m\u001b[0m\n\u001b[1;32m    129\u001b[0m         \u001b[0mconn\u001b[0m\u001b[0;34m.\u001b[0m\u001b[0mcursor_factory\u001b[0m \u001b[0;34m=\u001b[0m \u001b[0mcursor_factory\u001b[0m\u001b[0;34m\u001b[0m\u001b[0;34m\u001b[0m\u001b[0m\n",
      "\u001b[0;31mOperationalError\u001b[0m: could not translate host name \"database-1.c2r3bciomarw.us-west-2.rds.amazonaws.com\" to address: Name or service not known\n"
     ]
    }
   ],
   "source": [
    "host = config.get('RDS','host')\n",
    "username = config.get('RDS','user')\n",
    "password = config.get('RDS','password')\n",
    "database = config.get('RDS','database')      \n",
    "db = psycopg2.connect(host=host, user=username, password=password, database=database)\n",
    "curr = db.cursor(cursor_factory=psycopg2.extras.DictCursor)\n",
    "curr.execute(\"SELECT COUNT(*) FROM {}\".format(table))\n",
    "record_count = (self.curr).fetchone()"
   ]
  },
  {
   "cell_type": "code",
   "execution_count": 2,
   "metadata": {},
   "outputs": [],
   "source": [
    "def run_tests(test_class):\n",
    "    suite = unittest.TestLoader().loadTestsFromTestCase(test_class)\n",
    "    runner = unittest.TextTestRunner(verbosity=2)\n",
    "    runner.run(suite)"
   ]
  },
  {
   "cell_type": "code",
   "execution_count": 3,
   "metadata": {},
   "outputs": [],
   "source": [
    "class TestQualityCheck(unittest.TestCase):\n",
    "    curr = None\n",
    "    \n",
    "    @classmethod\n",
    "    def setUpClass(cls):\n",
    "        # Set up db connections\n",
    "        host = config.get('postgres','host')\n",
    "        username = config.get('postgres','user')\n",
    "        password = config.get('postgres','password')\n",
    "        database = config.get('postgres','database')      \n",
    "        db = psycopg2.connect(host=host, user=username, password=password, database=database)\n",
    "        cls.curr = db.cursor(cursor_factory=psycopg2.extras.DictCursor)\n",
    "        \n",
    "    @classmethod\n",
    "    def tearDownClass(cls):\n",
    "        if (cls.curr):\n",
    "            (cls.curr).close()\n",
    "        \n",
    "    def test_connection(self):\n",
    "        self.assertNotEqual(self.curr, None)\n",
    "        \n",
    "    def test_distinct_records(self):\n",
    "        \"\"\"\n",
    "        The following test ensures consistency, \n",
    "        making sure duplicate records doesn't exist\n",
    "        \"\"\"        \n",
    "        for table in prod_tables:\n",
    "            self.curr.execute(\"SELECT COUNT(*) FROM {}\".format(table))\n",
    "            record_count = (self.curr).fetchone()\n",
    "            \n",
    "            self.curr.execute(\"SELECT COUNT(*) FROM (SELECT DISTINCT * FROM {}) AS temp\".format(table))\n",
    "            distinct_record_count = (self.curr).fetchone()\n",
    "            \n",
    "            print(\"{}: Record Count {}, Distinct Count {}\".format(table, record_count, distinct_record_count))\n",
    "            self.assertEqual(record_count, distinct_record_count)\n",
    "            \n",
    "    def test_date_formatting(self):\n",
    "        \"\"\"\n",
    "        This following test ensures that the date value\n",
    "        is of the following format YYYY-MM-DD. \n",
    "        Makes parsing out the year consistent.\n",
    "        \"\"\"\n",
    "        \n",
    "        self.curr.execute(\"SELECT count(date) FROM prod_police_shootings\")\n",
    "        control_count = (self.curr).fetchone()        \n",
    "        \n",
    "        self.curr.execute(\"SELECT count(date) FROM prod_police_shootings WHERE date ~ '^\\d\\d\\d\\d-\\d\\d-\\d\\d$'\")\n",
    "        record_count = (self.curr).fetchone()\n",
    "        \n",
    "        print(\"Date in  this format YYYY-MM-DD: Control Count {}, Record Count {}\" \\\n",
    "              .format(control_count, record_count))\n",
    "        self.assertEqual(control_count, record_count)"
   ]
  },
  {
   "cell_type": "code",
   "execution_count": 6,
   "metadata": {},
   "outputs": [
    {
     "name": "stderr",
     "output_type": "stream",
     "text": [
      "test_connection (__main__.TestQualityCheck) ... ok\n",
      "test_date_formatting (__main__.TestQualityCheck) ... ok\n",
      "test_distinct_records (__main__.TestQualityCheck) ... "
     ]
    },
    {
     "name": "stdout",
     "output_type": "stream",
     "text": [
      "Date in  this format YYYY-MM-DD: Control Count [6533], Record Count [6533]\n",
      "prod_police_shootings: Record Count [6533], Distinct Count [6533]\n",
      "prod_us_cities: Record Count [28338], Distinct Count [28338]\n",
      "prod_us_demographics: Record Count [87976], Distinct Count [87976]\n",
      "prod_unemployment: Record Count [3237], Distinct Count [3237]\n"
     ]
    },
    {
     "name": "stderr",
     "output_type": "stream",
     "text": [
      "ok\n",
      "\n",
      "----------------------------------------------------------------------\n",
      "Ran 3 tests in 0.220s\n",
      "\n",
      "OK\n"
     ]
    }
   ],
   "source": [
    "run_tests(TestQualityCheck)"
   ]
  }
 ],
 "metadata": {
  "kernelspec": {
   "display_name": "Python 3",
   "language": "python",
   "name": "python3"
  },
  "language_info": {
   "codemirror_mode": {
    "name": "ipython",
    "version": 3
   },
   "file_extension": ".py",
   "mimetype": "text/x-python",
   "name": "python",
   "nbconvert_exporter": "python",
   "pygments_lexer": "ipython3",
   "version": "3.6.9"
  }
 },
 "nbformat": 4,
 "nbformat_minor": 2
}
