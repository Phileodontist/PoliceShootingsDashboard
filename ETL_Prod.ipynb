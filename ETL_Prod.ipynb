{
 "cells": [
  {
   "cell_type": "code",
   "execution_count": null,
   "metadata": {},
   "outputs": [],
   "source": [
    "import os\n",
    "import psycopg2\n",
    "import configparser\n",
    "from pyspark.sql import SparkSession\n",
    "from pyspark.sql import functions as func\n",
    "from sql_queries import stage_tables, prod_tables, transformation_queries\n",
    "# from sql_queries import create_prod_table_queries, drop_prod_table_queries\n",
    "from schemas import prod_police_shootings_schema, prod_us_cities_schema, \\\n",
    "                    prod_us_demographics_schema, prod_unemployment_schema\n",
    "\n",
    "# Used within jupyter notebook\n",
    "os.environ['PYSPARK_SUBMIT_ARGS'] = '--packages org.postgresql:postgresql:42.1.1 pyspark-shell'\n",
    "\n",
    "config = configparser.ConfigParser()\n",
    "config.read('config.ini')"
   ]
  },
  {
   "cell_type": "code",
   "execution_count": 2,
   "metadata": {},
   "outputs": [],
   "source": [
    "def create_spark_session():\n",
    "    \"\"\"\n",
    "    Creates a Spark Sessions\n",
    "    \"\"\"\n",
    "    spark = SparkSession.builder \\\n",
    "                        .config(\"spark.driver.extraClassPath\", os.environ['PYSPARK_SUBMIT_ARGS']) \\\n",
    "                        .master('local[*]') \\\n",
    "                        .appName('ETL')\\\n",
    "                        .getOrCreate()\n",
    "    return spark"
   ]
  },
  {
   "cell_type": "code",
   "execution_count": 3,
   "metadata": {},
   "outputs": [],
   "source": [
    "def create_temp_view(spark, table_name):\n",
    "    \"\"\"\n",
    "    \"\"\"\n",
    "    df = spark.read \\\n",
    "      .format(\"jdbc\") \\\n",
    "      .option('driver', 'org.postgresql.Driver') \\\n",
    "      .option(\"url\", config.get('postgres', 'url')) \\\n",
    "      .option(\"dbtable\", table_name) \\\n",
    "      .option(\"user\", config.get('postgres', 'user')) \\\n",
    "      .option(\"password\", config.get('postgres', 'password')) \\\n",
    "      .load()\n",
    "    \n",
    "    df.createOrReplaceTempView(table_name)"
   ]
  },
  {
   "cell_type": "code",
   "execution_count": 4,
   "metadata": {},
   "outputs": [],
   "source": [
    "def write_to_prod(spark, query, table_name, db_properties):\n",
    "    \"\"\"\n",
    "    \"\"\"\n",
    "    prod_data = spark.sql(query)\n",
    "    prod_data.write \\\n",
    "             .option('driver', 'org.postgresql.Driver') \\\n",
    "             .jdbc(url=config.get('postgres', 'url'), \\\n",
    "                   table=table_name, \\\n",
    "                   mode='overwrite', \\\n",
    "                   properties=db_properties)"
   ]
  },
  {
   "cell_type": "code",
   "execution_count": 5,
   "metadata": {},
   "outputs": [],
   "source": [
    "def main():\n",
    "    spark = create_spark_session()\n",
    "    \n",
    "    # Set up db connections\n",
    "    db_properties = {}\n",
    "    db_properties['username'] = config.get('postgres','user')\n",
    "    db_properties['password'] = config.get('postgres','password')\n",
    "    \n",
    "    for stage_table, prod_table, transformation in zip(stage_tables, prod_tables, transformation_queries):\n",
    "        create_temp_view(spark, stage_table)\n",
    "        write_to_prod(spark, transformation, prod_table, db_properties)\n",
    "    \n",
    "if __name__ == '__main__':\n",
    "    main()"
   ]
  }
 ],
 "metadata": {
  "kernelspec": {
   "display_name": "Python 3",
   "language": "python",
   "name": "python3"
  },
  "language_info": {
   "codemirror_mode": {
    "name": "ipython",
    "version": 3
   },
   "file_extension": ".py",
   "mimetype": "text/x-python",
   "name": "python",
   "nbconvert_exporter": "python",
   "pygments_lexer": "ipython3",
   "version": "3.6.9"
  }
 },
 "nbformat": 4,
 "nbformat_minor": 2
}
