{
 "cells": [
  {
   "cell_type": "markdown",
   "metadata": {},
   "source": [
    "# Performs Data Quality Checks"
   ]
  },
  {
   "cell_type": "code",
   "execution_count": 10,
   "metadata": {},
   "outputs": [
    {
     "data": {
      "text/plain": [
       "['config.ini']"
      ]
     },
     "execution_count": 10,
     "metadata": {},
     "output_type": "execute_result"
    }
   ],
   "source": [
    "import os\n",
    "import sys\n",
    "import unittest\n",
    "import configparser\n",
    "import psycopg2\n",
    "import psycopg2.extras\n",
    "from sql_queries import prod_tables\n",
    "\n",
    "config = configparser.ConfigParser()\n",
    "config.read('config.ini')"
   ]
  },
  {
   "cell_type": "code",
   "execution_count": 11,
   "metadata": {},
   "outputs": [],
   "source": [
    "# host = config.get('RDS','host')\n",
    "# username = config.get('RDS','user')\n",
    "# password = config.get('RDS','password')\n",
    "# database = config.get('RDS','database')      \n",
    "# db = psycopg2.connect(host=host, user=username, password=password, database=database)\n",
    "# curr = db.cursor(cursor_factory=psycopg2.extras.DictCursor)\n",
    "# curr.execute(\"SELECT COUNT(*) FROM {}\".format('prod_police_shootings'))\n",
    "# record_count = (self.curr).fetchone()\n",
    "# record_count"
   ]
  },
  {
   "cell_type": "code",
   "execution_count": 12,
   "metadata": {},
   "outputs": [
    {
     "data": {
      "text/plain": [
       "[6533]"
      ]
     },
     "execution_count": 12,
     "metadata": {},
     "output_type": "execute_result"
    }
   ],
   "source": [
    "host = config.get('postgres','host')\n",
    "username = config.get('postgres','user')\n",
    "password = config.get('postgres','password')\n",
    "database = config.get('postgres','database')      \n",
    "db = psycopg2.connect(host=host, user=username, password=password, database=database)\n",
    "curr = db.cursor(cursor_factory=psycopg2.extras.DictCursor)\n",
    "curr.execute(\"SELECT COUNT(*) FROM {}\".format('prod_police_shootings'))\n",
    "record_count = (curr).fetchone()\n",
    "record_count"
   ]
  },
  {
   "cell_type": "code",
   "execution_count": 13,
   "metadata": {},
   "outputs": [],
   "source": [
    "def run_tests(test_class):\n",
    "    suite = unittest.TestLoader().loadTestsFromTestCase(test_class)\n",
    "    runner = unittest.TextTestRunner(verbosity=2)\n",
    "    runner.run(suite)"
   ]
  },
  {
   "cell_type": "code",
   "execution_count": 14,
   "metadata": {},
   "outputs": [],
   "source": [
    "class TestQualityCheck(unittest.TestCase):\n",
    "    curr = None\n",
    "    \n",
    "    @classmethod\n",
    "    def setUpClass(cls):\n",
    "        # Set up db connections\n",
    "        host = config.get('postgres','host')\n",
    "        username = config.get('postgres','user')\n",
    "        password = config.get('postgres','password')\n",
    "        database = config.get('postgres','database')      \n",
    "        db = psycopg2.connect(host=host, user=username, password=password, database=database)\n",
    "        cls.curr = db.cursor(cursor_factory=psycopg2.extras.DictCursor)\n",
    "        \n",
    "    @classmethod\n",
    "    def tearDownClass(cls):\n",
    "        if (cls.curr):\n",
    "            (cls.curr).close()\n",
    "        \n",
    "    def test_connection(self):\n",
    "        self.assertNotEqual(self.curr, None)\n",
    "        \n",
    "    def test_distinct_records(self):\n",
    "        \"\"\"\n",
    "        The following test ensures consistency, \n",
    "        making sure duplicate records doesn't exist\n",
    "        \"\"\"        \n",
    "        for table in prod_tables:\n",
    "            self.curr.execute(\"SELECT COUNT(*) FROM {}\".format(table))\n",
    "            record_count = (self.curr).fetchone()\n",
    "            \n",
    "            self.curr.execute(\"SELECT COUNT(*) FROM (SELECT DISTINCT * FROM {}) AS temp\".format(table))\n",
    "            distinct_record_count = (self.curr).fetchone()\n",
    "            \n",
    "            print(\"{}: Record Count {}, Distinct Count {}\".format(table, record_count, distinct_record_count))\n",
    "            self.assertEqual(record_count, distinct_record_count)\n",
    "            \n",
    "    def test_date_formatting(self):\n",
    "        \"\"\"\n",
    "        This following test ensures that the date value\n",
    "        is of the following format YYYY-MM-DD. \n",
    "        Makes parsing out the year consistent.\n",
    "        \"\"\"\n",
    "        \n",
    "        self.curr.execute(\"SELECT count(date) FROM prod_police_shootings\")\n",
    "        control_count = (self.curr).fetchone()        \n",
    "        \n",
    "        self.curr.execute(\"SELECT count(date) FROM prod_police_shootings WHERE date ~ '^\\d\\d\\d\\d-\\d\\d-\\d\\d$'\")\n",
    "        record_count = (self.curr).fetchone()\n",
    "        \n",
    "        print(\"Date in  this format YYYY-MM-DD: Control Count {}, Record Count {}\" \\\n",
    "              .format(control_count, record_count))\n",
    "        self.assertEqual(control_count, record_count)"
   ]
  },
  {
   "cell_type": "code",
   "execution_count": 15,
   "metadata": {},
   "outputs": [
    {
     "name": "stderr",
     "output_type": "stream",
     "text": [
      "test_connection (__main__.TestQualityCheck) ... ok\n",
      "test_date_formatting (__main__.TestQualityCheck) ... ok\n",
      "test_distinct_records (__main__.TestQualityCheck) ... "
     ]
    },
    {
     "name": "stdout",
     "output_type": "stream",
     "text": [
      "Date in  this format YYYY-MM-DD: Control Count [6533], Record Count [6533]\n",
      "prod_police_shootings: Record Count [6533], Distinct Count [6533]\n",
      "prod_us_cities: Record Count [28338], Distinct Count [28338]\n",
      "prod_us_demographics: Record Count [87976], Distinct Count [87976]\n",
      "prod_unemployment: Record Count [3237], Distinct Count [3237]\n"
     ]
    },
    {
     "name": "stderr",
     "output_type": "stream",
     "text": [
      "ok\n",
      "\n",
      "----------------------------------------------------------------------\n",
      "Ran 3 tests in 0.307s\n",
      "\n",
      "OK\n"
     ]
    }
   ],
   "source": [
    "run_tests(TestQualityCheck)"
   ]
  }
 ],
 "metadata": {
  "kernelspec": {
   "display_name": "Python 3",
   "language": "python",
   "name": "python3"
  },
  "language_info": {
   "codemirror_mode": {
    "name": "ipython",
    "version": 3
   },
   "file_extension": ".py",
   "mimetype": "text/x-python",
   "name": "python",
   "nbconvert_exporter": "python",
   "pygments_lexer": "ipython3",
   "version": "3.6.9"
  }
 },
 "nbformat": 4,
 "nbformat_minor": 2
}
