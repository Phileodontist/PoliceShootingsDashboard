{
 "cells": [
  {
   "cell_type": "markdown",
   "metadata": {},
   "source": [
    "# Data Exploration: Combining all datasets together"
   ]
  },
  {
   "cell_type": "code",
   "execution_count": 1,
   "metadata": {},
   "outputs": [
    {
     "data": {
      "text/plain": [
       "['/home/lpascual/Projects/PoliceShootingsDashboard/config.ini']"
      ]
     },
     "execution_count": 1,
     "metadata": {},
     "output_type": "execute_result"
    }
   ],
   "source": [
    "import os\n",
    "import requests\n",
    "import configparser\n",
    "config = configparser.ConfigParser()\n",
    "config.read(os.path.join(os.path.dirname(os.getcwd()), 'config.ini'))"
   ]
  },
  {
   "cell_type": "code",
   "execution_count": 2,
   "metadata": {},
   "outputs": [],
   "source": [
    "from pyspark.sql import SparkSession\n",
    "from pyspark.sql import functions as func\n",
    "from pyspark.sql.types import StructType, StructField, StringType, DateType, IntegerType, BooleanType, FloatType\n",
    "\n",
    "spark = SparkSession.builder.master('local[*]').appName('DataExploration-Combine').getOrCreate()"
   ]
  },
  {
   "cell_type": "code",
   "execution_count": 3,
   "metadata": {},
   "outputs": [],
   "source": [
    "# Schema of the Police Shootings Dataset\n",
    "psSchema = StructType([\\\n",
    "                       StructField('id', IntegerType(), False),\n",
    "                       StructField('date', DateType(), True),\n",
    "                       StructField('threat_level', StringType(), True),\n",
    "                       StructField('flee', StringType(), True),\n",
    "                       StructField('armed', StringType(), True),\n",
    "                       StructField('city', StringType(), True),\n",
    "                       StructField('county', StringType(), True),\n",
    "                       StructField('state', StringType(), True),\n",
    "                       StructField('longitude', FloatType(), True),\n",
    "                       StructField('latitude', FloatType(), True),\n",
    "                       StructField('location_precision', StringType(), True),\n",
    "                       StructField('name', StringType(), True),\n",
    "                       StructField('age', IntegerType(), True),\n",
    "                       StructField('gender', StringType(), True),\n",
    "                       StructField('race', StringType(), True),\n",
    "                       StructField('race_source', StringType(), True),\n",
    "                       StructField('mental_illness', BooleanType(), True),\n",
    "                       StructField('body_camera', BooleanType(), True),\n",
    "                       StructField('agency_ids', IntegerType(), True),\n",
    "                        ])\n",
    "\n",
    "psaSchema = StructType([\\\n",
    "                       StructField('id', IntegerType(), False),\n",
    "                       StructField('name', StringType(), True),\n",
    "                       StructField('type', StringType(), True),\n",
    "                       StructField('state', StringType(), True),\n",
    "                       StructField('oricodes', StringType(), True),\n",
    "                       StructField('total_shootings', IntegerType(), True)\n",
    "                        ])  \n",
    "\n",
    "headersAuth = {\n",
    "    'Authorization': 'Bearer '+ config['unemploymentAPI']['unemployment_api_key']\n",
    "}"
   ]
  },
  {
   "cell_type": "code",
   "execution_count": 4,
   "metadata": {},
   "outputs": [],
   "source": [
    "# US Cities and Counties\n",
    "usCitiesDF = spark.read.option('header', 'True').option('inferSchema', 'true').csv(config['pathways']['us_cities'])\n",
    "usCitiesDF.createOrReplaceTempView('usCities')\n",
    "\n",
    "# US Demographics\n",
    "usDemoDF = spark.read.option('header', 'true').option('inferSchema', 'true').csv(config['pathways']['us_demographics'])\n",
    "usDemoDF.createOrReplaceTempView('usDemo')\n",
    "\n",
    "# US Unemployment by County\n",
    "endPointTemplate = 'https://api.careeronestop.org/v1/unemployment/{}/{}/{}'\n",
    "url = endPointTemplate.format(config['unemploymentAPI']['unemployment_userID'], 'CA', 'county')\n",
    "response = requests.get(url, headers=headersAuth, verify=True)\n",
    "response = response.json()['CountyList']\n",
    "caUEDataRDD = spark.sparkContext.parallelize(response)\n",
    "caUEDataDF = spark.read.json(caUEDataRDD)\n",
    "caUEDataDF = caUEDataDF.withColumn(\"State\", func.lit('CA'))\n",
    "caUEDataDF.createOrReplaceTempView('usUnemployment')\n",
    "\n",
    "# Police Shootings\n",
    "psDF = spark.read.option('header', 'True').schema(psSchema).csv(config['pathways']['police_shootings'])\n",
    "psDF.createOrReplaceTempView('policeShootings')\n",
    "\n",
    "psaDF = spark.read.option('header', 'True').schema(psaSchema).csv(config['pathways']['police_shootings_agencies'])\n",
    "psaDF.createOrReplaceTempView('policeShootingsAgencies')"
   ]
  },
  {
   "cell_type": "markdown",
   "metadata": {},
   "source": [
    "## US Cities and Counties\n"
   ]
  },
  {
   "cell_type": "code",
   "execution_count": 5,
   "metadata": {},
   "outputs": [
    {
     "name": "stdout",
     "output_type": "stream",
     "text": [
      "+--------+----------+-----------+-----------+\n",
      "|state_id|state_name|     county|       city|\n",
      "+--------+----------+-----------+-----------+\n",
      "|      NY|  New York|   New York|   New York|\n",
      "|      CA|California|Los Angeles|Los Angeles|\n",
      "|      IL|  Illinois|       Cook|    Chicago|\n",
      "|      FL|   Florida| Miami-Dade|      Miami|\n",
      "|      TX|     Texas|     Dallas|     Dallas|\n",
      "+--------+----------+-----------+-----------+\n",
      "only showing top 5 rows\n",
      "\n"
     ]
    }
   ],
   "source": [
    "usCitiesDF = spark.sql(\"\"\"\n",
    "    SELECT \n",
    "        state_id,\n",
    "        state_name,\n",
    "        county_name as county,\n",
    "        city\n",
    "    FROM usCities\n",
    "\"\"\")\n",
    "\n",
    "usCitiesDF.createOrReplaceTempView('usCitiesNorm')\n",
    "usCitiesDF.show(5)"
   ]
  },
  {
   "cell_type": "markdown",
   "metadata": {},
   "source": [
    "## US Demographics"
   ]
  },
  {
   "cell_type": "code",
   "execution_count": 6,
   "metadata": {},
   "outputs": [
    {
     "name": "stdout",
     "output_type": "stream",
     "text": [
      "+----------+---------------+------+-------+-------+----+---------------+----------+\n",
      "|state_name|    county_name|   sex|min_age|max_age|year|           race|population|\n",
      "+----------+---------------+------+-------+-------+----+---------------+----------+\n",
      "|     Texas|Crockett County|  Male|    5.0|    9.0|2010|          White|       123|\n",
      "|     Texas|Crockett County|Female|   67.0|   69.0|2010|          Asian|         1|\n",
      "|     Texas|Crockett County|Female|   55.0|   59.0|2010|          White|       111|\n",
      "|     Texas|Crockett County|  Male|   21.0|   21.0|2010|          White|         7|\n",
      "|     Texas|Crockett County|Female|   67.0|   69.0|2010|Native Hawaiian|         0|\n",
      "+----------+---------------+------+-------+-------+----+---------------+----------+\n",
      "only showing top 5 rows\n",
      "\n"
     ]
    }
   ],
   "source": [
    "# Normalize and Select relative columns\n",
    "# Note: Records that have null values in the following columns: sex, race, min_age, max_age\n",
    "#       need to be filtered out. Otherwise overcounting occurs.\n",
    "#       Null in those columns, represents (Across all {sex, race, age})\n",
    "usDemoNorm = spark.sql(\"\"\"   \n",
    "                        SELECT\n",
    "                            state_name,\n",
    "                            county_name,\n",
    "                            sex,\n",
    "                            min_age,\n",
    "                            max_age,\n",
    "                            year,\n",
    "                            CASE \n",
    "                                WHEN race like 'AMERICAN INDIAN%' then 'American Indian'\n",
    "                                WHEN race like 'SOME OTHER RACE%' then 'Other'\n",
    "                                WHEN race like 'WHITE%' then 'White'\n",
    "                                WHEN race like 'ASIAN%' then 'Asian'\n",
    "                                WHEN race like 'NATIVE HAWAIIAN%' then 'Native Hawaiian'\n",
    "                                WHEN race like 'TWO OR MORE%' then 'Mixed'\n",
    "                                WHEN race like 'BLACK%' then 'African American'\n",
    "                            END as race,\n",
    "                            population\n",
    "                        FROM usDemo\n",
    "                        WHERE year = '2010' AND race is NOT NULL AND sex is NOT NULL \n",
    "                              AND min_age is NOT NULL AND max_age is NOT NULL\n",
    "                        \"\"\")\n",
    "usDemoNorm.createOrReplaceTempView('usDemoNorm')\n",
    "usDemoNorm.show(5)"
   ]
  },
  {
   "cell_type": "markdown",
   "metadata": {},
   "source": [
    "## Police Shootings"
   ]
  },
  {
   "cell_type": "code",
   "execution_count": 7,
   "metadata": {},
   "outputs": [
    {
     "name": "stdout",
     "output_type": "stream",
     "text": [
      "+---+------------------+----------+-------+---+------+--------------+------------+----+-----------+--------+-------------+--------+----------+\n",
      "| id|              name|      date|  armed|age|gender|mental_illness|threat_level|flee|body_camera|    race|         city|state_id|agency_ids|\n",
      "+---+------------------+----------+-------+---+------+--------------+------------+----+-----------+--------+-------------+--------+----------+\n",
      "|  3|        Tim Elliot|2015-01-02|    gun| 53|  male|          true|       point| not|      false|   Asian|      Shelton|      WA|        73|\n",
      "|  4|  Lewis Lee Lembke|2015-01-02|    gun| 47|  male|         false|       point| not|      false|   White|        Aloha|      OR|        70|\n",
      "|  5|John Paul Quintero|2015-01-03|unarmed| 23|  male|         false|        move| not|      false|Hispanic|      Wichita|      KS|       238|\n",
      "|  8|   Matthew Hoffman|2015-01-04|replica| 32|  male|          true|       point| not|      false|   White|San Francisco|      CA|       196|\n",
      "|  9| Michael Rodriguez|2015-01-04|  other| 39|  male|         false|       point| not|      false|Hispanic|        Evans|      CO|       473|\n",
      "+---+------------------+----------+-------+---+------+--------------+------------+----+-----------+--------+-------------+--------+----------+\n",
      "only showing top 5 rows\n",
      "\n"
     ]
    }
   ],
   "source": [
    "policeShootingsNorm = spark.sql(\"\"\"\n",
    "        SELECT \n",
    "            id,\n",
    "            name,\n",
    "            date,\n",
    "            armed,\n",
    "            age,\n",
    "            gender,\n",
    "            mental_illness,\n",
    "            threat_level,\n",
    "            flee,\n",
    "            body_camera,\n",
    "            CASE\n",
    "                WHEN race = 'A' THEN 'Asian'\n",
    "                WHEN race = 'B' THEN 'Black'\n",
    "                WHEN race = 'N' THEN 'Native'\n",
    "                WHEN race = 'H' THEN 'Hispanic'\n",
    "                WHEN race = 'W' THEN 'White'\n",
    "                WHEN race = 'O' THEN 'Other'\n",
    "                WHEN race = 'B;H' THEN 'Black and Hispanic'\n",
    "                ELSE 'Not Documented'\n",
    "            END as race, \n",
    "            city, \n",
    "            state as state_id,\n",
    "            agency_ids\n",
    "        FROM    \n",
    "          policeShootings\n",
    "\n",
    "\"\"\")\n",
    "policeShootingsNorm.createOrReplaceTempView('policeShootingsNorm')\n",
    "policeShootingsNorm.show(5)"
   ]
  },
  {
   "cell_type": "markdown",
   "metadata": {},
   "source": [
    "## US Unemployment"
   ]
  },
  {
   "cell_type": "code",
   "execution_count": 8,
   "metadata": {},
   "outputs": [
    {
     "name": "stdout",
     "output_type": "stream",
     "text": [
      "+--------+---------+------------------+-----------------+\n",
      "|state_id|   county|unemployment_count|unemployment_rate|\n",
      "+--------+---------+------------------+-----------------+\n",
      "|      CA|  Alameda|             31417|              3.8|\n",
      "|      CA|   Alpine|                33|              5.3|\n",
      "|      CA|   Amador|               839|              5.8|\n",
      "|      CA|    Butte|              5325|              5.7|\n",
      "|      CA|Calaveras|              1041|              4.6|\n",
      "+--------+---------+------------------+-----------------+\n",
      "only showing top 5 rows\n",
      "\n"
     ]
    }
   ],
   "source": [
    "caUEDataDF.createOrReplaceTempView(\"caUE\")\n",
    "caUEDataDF = spark.sql(\"\"\"\n",
    "        SELECT \n",
    "            State as state_id, \n",
    "            REPLACE(AreaName, ' County', '') as county,\n",
    "            UnEmpCount as unemployment_count,\n",
    "            UnEmpRate as unemployment_rate\n",
    "        FROM caUE\n",
    "        \"\"\")\n",
    "\n",
    "caUEDataDF.createOrReplaceTempView(\"caUE\")\n",
    "caUEDataDF.show(5)"
   ]
  },
  {
   "cell_type": "markdown",
   "metadata": {},
   "source": [
    "## California Subset"
   ]
  },
  {
   "cell_type": "code",
   "execution_count": 9,
   "metadata": {},
   "outputs": [
    {
     "name": "stdout",
     "output_type": "stream",
     "text": [
      "+----------+--------+--------------------+------------+----+------+--------------+------------+-----+-----------+--------------+------------------+-----------------+--------------------+------------+\n",
      "|state_name|  county|                name|       armed| age|gender|mental_illness|threat_level| flee|body_camera|          race|unemployment_count|unemployment_rate|         agency_name| agency_dept|\n",
      "+----------+--------+--------------------+------------+----+------+--------------+------------+-----+-----------+--------------+------------------+-----------------+--------------------+------------+\n",
      "|California|   Kings|        Dave Phoenix|     replica|  25|  male|         false|       point|  not|      false|        Native|              5682|              9.7|Lemoore Police De...|local_police|\n",
      "|California|   Kings|Sergio Velasco-Ma...|blunt_object|  25|  male|         false|      attack|  not|      false|      Hispanic|              5682|              9.7|Avenal Police Dep...|local_police|\n",
      "|California|   Kings|       Johnny Castro|         gun|  43|  male|         false|       shoot|  car|      false|      Hispanic|              5682|              9.7|Hanford Police De...|local_police|\n",
      "|California|   Kings|      Edgar Espinoza|       knife|  35|  male|         false|      attack|  not|      false|      Hispanic|              5682|              9.7|Kings County Sher...|     sheriff|\n",
      "|California|   Kings| Blayne Erwin Morris|         gun|  23|  male|         false|       point|  car|      false|Not Documented|              5682|              9.7|Kings County Sher...|     sheriff|\n",
      "|California|   Kings|Dominique Antwon ...|       knife|  26|  male|          true|      attack|  not|      false|         Black|              5682|              9.7|Kings County Sher...|     sheriff|\n",
      "|California|  Sonoma|        Pablo Garcia|       knife|  35|  male|          true|      attack|  not|       true|      Hispanic|              9044|              3.6|Santa Rosa Police...|local_police|\n",
      "|California|  Sonoma|     Victor Gonzalez|blunt_object|  44|  male|         false|      threat|  not|      false|      Hispanic|              9044|              3.6|Cloverdale Police...|local_police|\n",
      "|California|    Napa|James Richard Jim...|         gun|  41|  male|         false|        move|other|      false|      Hispanic|              2630|              3.6|Napa Police Depar...|local_police|\n",
      "|California|    Napa|  Noel Aaron Russell|       knife|  23|  male|          true|      threat|  not|      false|         White|              2630|              3.6|Napa Police Depar...|local_police|\n",
      "|California|    Napa|Stephen Connard F...|         gun|  65|  male|         false|       shoot|  car|      false|         White|              2630|              3.6|Napa Police Depar...|local_police|\n",
      "|California|    Napa|David Alejandro M...|         gun|  27|  male|          true|      attack| foot|      false|      Hispanic|              2630|              3.6|Napa Police Depar...|local_police|\n",
      "|California|    Napa|Brandan Reid Nyla...|         gun|  24|  male|         false|      threat|  car|      false|         White|              2630|              3.6|Napa County Sheri...|     sheriff|\n",
      "|California|    Napa|  Juan Adrian Garcia|     unarmed|  47|  male|         false|        move|  not|       true|      Hispanic|              2630|              3.6|Napa County Sheri...|     sheriff|\n",
      "|California|  Madera|   Sergio Valdovinos|       knife|  32|  male|          true|      threat|  not|      false|      Hispanic|              5736|              8.7|Madera Police Dep...|local_police|\n",
      "|California|  Madera|                null|undetermined|null|  male|         false|      threat| foot|      false|Not Documented|              5736|              8.7|California Highwa...|state_police|\n",
      "|California|  Madera|Michael Robert Novak|       knife|  58|  male|          true|       point|  not|       true|         White|              5736|              8.7|Madera Police Dep...|local_police|\n",
      "|California|  Madera|          Jose Soliz|         gun|  29|  male|         false|      threat| null|      false|Not Documented|              5736|              8.7|Madera Police Dep...|local_police|\n",
      "|California|Siskiyou| Matthew Ryan Graham|         gun|  24|  male|         false|       shoot|  car|      false|         White|              1318|              7.9|Siskiyou County S...|     sheriff|\n",
      "|California|Siskiyou|  Ryan Daniel Vrenon|         gun|  25|  male|         false|       point|  car|      false|         White|              1318|              7.9|California Highwa...|state_police|\n",
      "+----------+--------+--------------------+------------+----+------+--------------+------------+-----+-----------+--------------+------------------+-----------------+--------------------+------------+\n",
      "only showing top 20 rows\n",
      "\n"
     ]
    }
   ],
   "source": [
    "spark.sql(\"\"\"\n",
    "    SELECT \n",
    "        usc.state_name,\n",
    "        usc.county,\n",
    "        ps.name, \n",
    "        ps.armed,\n",
    "        ps.age,\n",
    "        ps.gender,\n",
    "        ps.mental_illness,\n",
    "        ps.threat_level,\n",
    "        ps.flee,\n",
    "        ps.body_camera,\n",
    "        ps.race,\n",
    "        ue.unemployment_count,\n",
    "        ue.unemployment_rate,\n",
    "        psa.name as agency_name,\n",
    "        psa.type as agency_dept\n",
    "    FROM policeShootingsNorm as ps\n",
    "    JOIN policeShootingsAgencies as psa\n",
    "    ON ps.agency_ids = psa.id\n",
    "    JOIN usCitiesNorm as usc\n",
    "    ON ps.state_id = usc.state_id and ps.city = usc.city\n",
    "    JOIN caUE as ue \n",
    "    ON ps.state_id = ue.state_id and usc.county = ue.county\n",
    "    WHERE usc.state_name = 'California'\n",
    "\"\"\").show(20)"
   ]
  },
  {
   "cell_type": "code",
   "execution_count": 10,
   "metadata": {},
   "outputs": [],
   "source": [
    "spark.stop()"
   ]
  }
 ],
 "metadata": {
  "kernelspec": {
   "display_name": "Python 3",
   "language": "python",
   "name": "python3"
  },
  "language_info": {
   "codemirror_mode": {
    "name": "ipython",
    "version": 3
   },
   "file_extension": ".py",
   "mimetype": "text/x-python",
   "name": "python",
   "nbconvert_exporter": "python",
   "pygments_lexer": "ipython3",
   "version": "3.6.9"
  }
 },
 "nbformat": 4,
 "nbformat_minor": 2
}
