{
 "cells": [
  {
   "cell_type": "markdown",
   "metadata": {},
   "source": [
    "# Data Exploration for Police Shooting Data\n",
    "\n",
    "**[Synopsis] The following explores the Police Shootings dataset pertaining to the Police Shooting Dashboard**\n",
    "\n",
    "**Note:** Can schedule a weekly download of this dataset, since it updates frequently.\n",
    "\n",
    "**Reference**:\n",
    "* [Police Shootings Data](https://github.com/washingtonpost/data-police-shootings/tree/master/v2)\n",
    "\n",
    "*****"
   ]
  },
  {
   "cell_type": "code",
   "execution_count": 1,
   "metadata": {},
   "outputs": [
    {
     "data": {
      "text/plain": [
       "['/home/lpascual/Projects/PoliceShootingsDashboard/config.ini']"
      ]
     },
     "execution_count": 1,
     "metadata": {},
     "output_type": "execute_result"
    }
   ],
   "source": [
    "import os\n",
    "import configparser\n",
    "config = configparser.ConfigParser()\n",
    "config.read(os.path.join(os.path.dirname(os.getcwd()), 'config.ini'))"
   ]
  },
  {
   "cell_type": "code",
   "execution_count": 1,
   "metadata": {},
   "outputs": [],
   "source": [
    "from pyspark.sql import SparkSession\n",
    "from pyspark.sql import functions as func\n",
    "from pyspark.sql.types import StructType, StructField, StringType, DateType, IntegerType, BooleanType, FloatType\n",
    "\n",
    "spark = SparkSession.builder.master('local[*]').appName('DataExploration-PoliceShootings').getOrCreate()"
   ]
  },
  {
   "cell_type": "code",
   "execution_count": 2,
   "metadata": {},
   "outputs": [],
   "source": [
    "spark.stop()"
   ]
  },
  {
   "cell_type": "markdown",
   "metadata": {},
   "source": [
    "## Police Shooting Data"
   ]
  },
  {
   "cell_type": "code",
   "execution_count": 3,
   "metadata": {},
   "outputs": [],
   "source": [
    "%%capture\n",
    "# Schema of the Police Shootings Dataset (Sept 2021)\n",
    "\"\"\"\n",
    "psSchema = StructType([\\\n",
    "                       StructField('id', IntegerType(), False),\n",
    "                       StructField('name', StringType(), True),\n",
    "                       StructField('date', DateType(), True),\n",
    "                       StructField('manner_of_death', StringType(), True),\n",
    "                       StructField('armed', StringType(), True),\n",
    "                       StructField('age', IntegerType(), True),\n",
    "                       StructField('gender', StringType(), True),\n",
    "                       StructField('race', StringType(), True),\n",
    "                       StructField('city', StringType(), True),\n",
    "                       StructField('state', StringType(), True),\n",
    "                       StructField('s_o_m_i', BooleanType(), True),\n",
    "                       StructField('threat_level', StringType(), True),\n",
    "                       StructField('flee', StringType(), True),\n",
    "                       StructField('body_camera', BooleanType(), True),\n",
    "                       StructField('longitude', FloatType(), True),\n",
    "                       StructField('latitude', FloatType(), True),\n",
    "                       StructField('is_geocoding_exact', BooleanType(), True)\n",
    "                        ])\n",
    "\"\"\"                        "
   ]
  },
  {
   "cell_type": "markdown",
   "metadata": {},
   "source": [
    "**Note:** Certain fields were renamed, but the notable changes were the following:\n",
    "* **Agency ID:** was added (Dataset now links with another dataset containing agency information)\n",
    "* **County:** was added (Supplement city & state)\n",
    "* **Race Source:** was added (How race information was obtained)\n",
    "* **Manner of Death:** was removed (Didn't bring much value; was either shot, or shot and tased)\n",
    "\n",
    "For more information refer to:<br/>\n",
    "https://github.com/washingtonpost/data-police-shootings/tree/master/v2"
   ]
  },
  {
   "cell_type": "code",
   "execution_count": 4,
   "metadata": {},
   "outputs": [],
   "source": [
    "# Schema of the Police Shootings Dataset (Oct 2023)\n",
    "psSchema = StructType([\\\n",
    "                       StructField('id', IntegerType(), False),\n",
    "                       StructField('date', DateType(), True),\n",
    "                       StructField('threat_level', StringType(), True),\n",
    "                       StructField('flee', StringType(), True),\n",
    "                       StructField('armed', StringType(), True),\n",
    "                       StructField('city', StringType(), True),\n",
    "                       StructField('county', StringType(), True),\n",
    "                       StructField('state', StringType(), True),\n",
    "                       StructField('longitude', FloatType(), True),\n",
    "                       StructField('latitude', FloatType(), True),\n",
    "                       StructField('location_precision', StringType(), True),\n",
    "                       StructField('name', StringType(), True),\n",
    "                       StructField('age', IntegerType(), True),\n",
    "                       StructField('gender', StringType(), True),\n",
    "                       StructField('race', StringType(), True),\n",
    "                       StructField('race_source', StringType(), True),\n",
    "                       StructField('mental_illness', BooleanType(), True),\n",
    "                       StructField('body_camera', BooleanType(), True),\n",
    "                       StructField('agency_ids', IntegerType(), True)\n",
    "                        ])                     "
   ]
  },
  {
   "cell_type": "code",
   "execution_count": 5,
   "metadata": {},
   "outputs": [],
   "source": [
    "# Creating Dataframe and Temp View\n",
    "psDF = spark.read.option('header', 'True').schema(psSchema).csv(config['pathways']['police_shootings'])\n",
    "psDF.createOrReplaceTempView('policeShootings')"
   ]
  },
  {
   "cell_type": "markdown",
   "metadata": {},
   "source": [
    "### Preview of the Data"
   ]
  },
  {
   "cell_type": "code",
   "execution_count": 6,
   "metadata": {},
   "outputs": [
    {
     "name": "stdout",
     "output_type": "stream",
     "text": [
      "+---+------------------+----------+-------+---+------+----+-------------+-------------+-----+\n",
      "| id|              name|      date|  armed|age|gender|race|         city|       county|state|\n",
      "+---+------------------+----------+-------+---+------+----+-------------+-------------+-----+\n",
      "|  3|        Tim Elliot|2015-01-02|    gun| 53|  male|   A|      Shelton|        Mason|   WA|\n",
      "|  4|  Lewis Lee Lembke|2015-01-02|    gun| 47|  male|   W|        Aloha|   Washington|   OR|\n",
      "|  5|John Paul Quintero|2015-01-03|unarmed| 23|  male|   H|      Wichita|     Sedgwick|   KS|\n",
      "|  8|   Matthew Hoffman|2015-01-04|replica| 32|  male|   W|San Francisco|San Francisco|   CA|\n",
      "|  9| Michael Rodriguez|2015-01-04|  other| 39|  male|   H|        Evans|         Weld|   CO|\n",
      "+---+------------------+----------+-------+---+------+----+-------------+-------------+-----+\n",
      "only showing top 5 rows\n",
      "\n"
     ]
    }
   ],
   "source": [
    "# First half of the columns\n",
    "psDF.select('id', 'name', 'date', 'armed', 'age', 'gender', 'race', 'city', 'county', 'state').show(5)"
   ]
  },
  {
   "cell_type": "code",
   "execution_count": 7,
   "metadata": {},
   "outputs": [
    {
     "name": "stdout",
     "output_type": "stream",
     "text": [
      "+-------------+--------------+-----------+----+-----------+---------+-----------+------------------+----------+\n",
      "|  race_source|mental_illness|threat_type|flee|body_camera|longitude|   latitude|location_precision|agency_ids|\n",
      "+-------------+--------------+-----------+----+-----------+---------+-----------+------------------+----------+\n",
      "|not_available|          true|      point| not|      false|47.246826| -123.12159|     not_available|        73|\n",
      "|not_available|         false|      point| not|      false|45.487423| -122.89169|     not_available|        70|\n",
      "|not_available|         false|       move| not|      false|37.694767| -97.280556|     not_available|       238|\n",
      "|not_available|          true|      point| not|      false| 37.76291|-122.422005|     not_available|       196|\n",
      "|not_available|         false|      point| not|      false|40.383938| -104.69226|     not_available|       473|\n",
      "+-------------+--------------+-----------+----+-----------+---------+-----------+------------------+----------+\n",
      "only showing top 5 rows\n",
      "\n"
     ]
    }
   ],
   "source": [
    "# Second half of the columns\n",
    "psDF.select('race_source','mental_illness', 'threat_level', 'flee', 'body_camera', \n",
    "            'longitude', 'latitude', 'location_precision', 'agency_ids').show(5)"
   ]
  },
  {
   "cell_type": "markdown",
   "metadata": {},
   "source": [
    "### Relevant Columns for Joining to Other Datasets"
   ]
  },
  {
   "cell_type": "code",
   "execution_count": 8,
   "metadata": {},
   "outputs": [
    {
     "name": "stdout",
     "output_type": "stream",
     "text": [
      "+---+------------------+----------+-------------+-------------+-----+\n",
      "| id|              name|      date|         city|       county|state|\n",
      "+---+------------------+----------+-------------+-------------+-----+\n",
      "|  3|        Tim Elliot|2015-01-02|      Shelton|        Mason|   WA|\n",
      "|  4|  Lewis Lee Lembke|2015-01-02|        Aloha|   Washington|   OR|\n",
      "|  5|John Paul Quintero|2015-01-03|      Wichita|     Sedgwick|   KS|\n",
      "|  8|   Matthew Hoffman|2015-01-04|San Francisco|San Francisco|   CA|\n",
      "|  9| Michael Rodriguez|2015-01-04|        Evans|         Weld|   CO|\n",
      "+---+------------------+----------+-------------+-------------+-----+\n",
      "only showing top 5 rows\n",
      "\n"
     ]
    }
   ],
   "source": [
    "# Select relevant columns\n",
    "psDF.select('id', 'name', 'date', 'city', 'county', 'state').show(5)"
   ]
  },
  {
   "cell_type": "markdown",
   "metadata": {},
   "source": [
    "### Relevant Columns to the Shooting"
   ]
  },
  {
   "cell_type": "code",
   "execution_count": 9,
   "metadata": {},
   "outputs": [
    {
     "name": "stdout",
     "output_type": "stream",
     "text": [
      "+--------------------+----------+------------+---+------+----+--------------+------------+----+-----------+\n",
      "|                name|      date|       armed|age|gender|race|mental_illness| threat_type|flee|body_camera|\n",
      "+--------------------+----------+------------+---+------+----+--------------+------------+----+-----------+\n",
      "|          Tim Elliot|2015-01-02|         gun| 53|  male|   A|          true|       point| not|      false|\n",
      "|    Lewis Lee Lembke|2015-01-02|         gun| 47|  male|   W|         false|       point| not|      false|\n",
      "|  John Paul Quintero|2015-01-03|     unarmed| 23|  male|   H|         false|        move| not|      false|\n",
      "|     Matthew Hoffman|2015-01-04|     replica| 32|  male|   W|          true|       point| not|      false|\n",
      "|   Michael Rodriguez|2015-01-04|       other| 39|  male|   H|         false|       point| not|      false|\n",
      "|   Kenneth Joe Brown|2015-01-04|         gun| 18|  male|   W|         false|      attack| not|      false|\n",
      "| Kenneth Arnold Buck|2015-01-05|         gun| 22|  male|   H|         false|       shoot| car|      false|\n",
      "|       Brock Nichols|2015-01-06|         gun| 35|  male|   W|         false|       point| not|      false|\n",
      "|       Autumn Steele|2015-01-06|     unarmed| 34|female|   W|         false|    accident| not|       true|\n",
      "|     Leslie Sapp III|2015-01-06|     replica| 47|  male|   B|         false|       point| not|      false|\n",
      "|      Patrick Wetter|2015-01-06|       knife| 25|  male|   W|         false|      attack| not|      false|\n",
      "|           Ron Sneed|2015-01-07|         gun| 31|  male|   B|         false|       point| not|      false|\n",
      "|Hashim Hanif Ibn ...|2015-01-07|       knife| 41|  male|   B|          true|      threat| not|      false|\n",
      "|Nicholas Ryan Bri...|2015-01-07|         gun| 30|  male|   W|         false|       point| car|      false|\n",
      "|Omarr Julian Maxi...|2015-01-07|         gun| 37|  male|   B|         false|       shoot|foot|       true|\n",
      "|       Loren Simpson|2015-01-08|        null| 28|  male|   W|         false|undetermined| not|      false|\n",
      "| James Dudley Barker|2015-01-08|blunt_object| 42|  male|   W|         false|      attack| not|       true|\n",
      "| Artago Damon Howard|2015-01-08|     unarmed| 36|  male|   B|         false|      attack| not|      false|\n",
      "|        Thomas Hamby|2015-01-08|         gun| 49|  male|   W|         false|       shoot| not|       true|\n",
      "|       Jimmy Foreman|2015-01-09|         gun| 71|  male|   W|         false|       shoot| not|      false|\n",
      "+--------------------+----------+------------+---+------+----+--------------+------------+----+-----------+\n",
      "only showing top 20 rows\n",
      "\n"
     ]
    }
   ],
   "source": [
    "# Select relevant columns\n",
    "psDF.select('name', 'date', 'armed', 'age', 'gender', 'race', 'mental_illness', 'threat_level', 'flee', 'body_camera').show(20)"
   ]
  },
  {
   "cell_type": "markdown",
   "metadata": {},
   "source": [
    "### Context of the shooting"
   ]
  },
  {
   "cell_type": "code",
   "execution_count": 10,
   "metadata": {},
   "outputs": [
    {
     "name": "stdout",
     "output_type": "stream",
     "text": [
      "+------------+----+--------------+------------+----+-----------+\n",
      "|       armed|race|mental_illness| threat_type|flee|body_camera|\n",
      "+------------+----+--------------+------------+----+-----------+\n",
      "|         gun|   A|          true|       point| not|      false|\n",
      "|         gun|   W|         false|       point| not|      false|\n",
      "|     unarmed|   H|         false|        move| not|      false|\n",
      "|     replica|   W|          true|       point| not|      false|\n",
      "|       other|   H|         false|       point| not|      false|\n",
      "|         gun|   W|         false|      attack| not|      false|\n",
      "|         gun|   H|         false|       shoot| car|      false|\n",
      "|         gun|   W|         false|       point| not|      false|\n",
      "|     unarmed|   W|         false|    accident| not|       true|\n",
      "|     replica|   B|         false|       point| not|      false|\n",
      "|       knife|   W|         false|      attack| not|      false|\n",
      "|         gun|   B|         false|       point| not|      false|\n",
      "|       knife|   B|          true|      threat| not|      false|\n",
      "|         gun|   W|         false|       point| car|      false|\n",
      "|         gun|   B|         false|       shoot|foot|       true|\n",
      "|        null|   W|         false|undetermined| not|      false|\n",
      "|blunt_object|   W|         false|      attack| not|       true|\n",
      "|     unarmed|   B|         false|      attack| not|      false|\n",
      "|         gun|   W|         false|       shoot| not|       true|\n",
      "|         gun|   W|         false|       shoot| not|      false|\n",
      "+------------+----+--------------+------------+----+-----------+\n",
      "only showing top 20 rows\n",
      "\n"
     ]
    }
   ],
   "source": [
    "# Looking at manner of death and situation details\n",
    "spark.sql(\"SELECT armed, race, mental_illness, threat_level, flee, body_camera FROM policeShootings\").show(20)"
   ]
  },
  {
   "cell_type": "markdown",
   "metadata": {},
   "source": [
    "### Unique Values of Mental Illness & Count"
   ]
  },
  {
   "cell_type": "code",
   "execution_count": 11,
   "metadata": {},
   "outputs": [
    {
     "name": "stdout",
     "output_type": "stream",
     "text": [
      "+--------------+-----+\n",
      "|mental_illness|count|\n",
      "+--------------+-----+\n",
      "|         false| 6988|\n",
      "|          true| 1787|\n",
      "+--------------+-----+\n",
      "\n"
     ]
    }
   ],
   "source": [
    "# Number of deaths with potential mental illness\n",
    "spark.sql(\"SELECT mental_illness, count(*) as count FROM policeShootings GROUP BY mental_illness ORDER BY count DESC\").show()"
   ]
  },
  {
   "cell_type": "markdown",
   "metadata": {},
   "source": [
    "### Unique Values of Armed & Count"
   ]
  },
  {
   "cell_type": "code",
   "execution_count": 12,
   "metadata": {},
   "outputs": [
    {
     "name": "stdout",
     "output_type": "stream",
     "text": [
      "+--------------------+-----+\n",
      "|               armed|count|\n",
      "+--------------------+-----+\n",
      "|                 gun| 5086|\n",
      "|               knife| 1472|\n",
      "|             unarmed|  516|\n",
      "|        undetermined|  348|\n",
      "|             vehicle|  309|\n",
      "|             replica|  288|\n",
      "|        blunt_object|  216|\n",
      "|                null|  210|\n",
      "|             unknown|  137|\n",
      "|               other|   88|\n",
      "|         gun;vehicle|   38|\n",
      "|           gun;knife|   35|\n",
      "|         vehicle;gun|   15|\n",
      "|           other;gun|    4|\n",
      "|       knife;vehicle|    3|\n",
      "|  blunt_object;knife|    2|\n",
      "|  knife;blunt_object|    2|\n",
      "|blunt_object;blun...|    2|\n",
      "|       replica;knife|    1|\n",
      "|other;blunt_objec...|    1|\n",
      "+--------------------+-----+\n",
      "only showing top 20 rows\n",
      "\n"
     ]
    }
   ],
   "source": [
    "# Number of deaths, grouped by weapon the individual was carrying\n",
    "spark.sql(\"SELECT armed, count(*) as count FROM policeShootings GROUP BY armed ORDER BY count DESC\").show()"
   ]
  },
  {
   "cell_type": "markdown",
   "metadata": {},
   "source": [
    "### Unique Values of Flee & Count"
   ]
  },
  {
   "cell_type": "code",
   "execution_count": 13,
   "metadata": {},
   "outputs": [
    {
     "name": "stdout",
     "output_type": "stream",
     "text": [
      "+-----+-----+\n",
      "| flee|count|\n",
      "+-----+-----+\n",
      "|  not| 4705|\n",
      "|  car| 1404|\n",
      "| null| 1192|\n",
      "| foot| 1137|\n",
      "|other|  337|\n",
      "+-----+-----+\n",
      "\n"
     ]
    }
   ],
   "source": [
    "# Number of deaths by method of fleeing\n",
    "spark.sql(\"SELECT flee, count(*) as count FROM policeShootings GROUP BY flee ORDER BY count DESC\").show()"
   ]
  },
  {
   "cell_type": "markdown",
   "metadata": {},
   "source": [
    "### Unique Values of Race & Count"
   ]
  },
  {
   "cell_type": "code",
   "execution_count": 14,
   "metadata": {},
   "outputs": [
    {
     "name": "stdout",
     "output_type": "stream",
     "text": [
      "+------------------+-----+\n",
      "|              race|count|\n",
      "+------------------+-----+\n",
      "|             White| 3772|\n",
      "|             Black| 1994|\n",
      "|    Not Documented| 1409|\n",
      "|          Hispanic| 1315|\n",
      "|             Asian|  146|\n",
      "|            Native|  117|\n",
      "|             Other|   21|\n",
      "|Black and Hispanic|    1|\n",
      "+------------------+-----+\n",
      "\n"
     ]
    }
   ],
   "source": [
    "# Number of deaths by race\n",
    "policeShootingsNorm = spark.sql(\"\"\"\n",
    "SELECT race, count(*) as count FROM \n",
    "            (SELECT \n",
    "                CASE\n",
    "                    WHEN race = 'A' THEN 'Asian'\n",
    "                    WHEN race = 'B' THEN 'Black'\n",
    "                    WHEN race = 'N' THEN 'Native'\n",
    "                    WHEN race = 'H' THEN 'Hispanic'\n",
    "                    WHEN race = 'W' THEN 'White'\n",
    "                    WHEN race = 'O' THEN 'Other'\n",
    "                    WHEN race = 'B;H' THEN 'Black and Hispanic'\n",
    "                    ELSE 'Not Documented'\n",
    "                END as race\n",
    "                FROM    \n",
    "                  policeShootings)\n",
    "                GROUP BY race ORDER BY count DESC\n",
    "\n",
    "\"\"\")\n",
    "policeShootingsNorm.show()"
   ]
  },
  {
   "cell_type": "markdown",
   "metadata": {},
   "source": [
    "### Unique Values of  Race Source & Count"
   ]
  },
  {
   "cell_type": "code",
   "execution_count": 15,
   "metadata": {},
   "outputs": [
    {
     "name": "stdout",
     "output_type": "stream",
     "text": [
      "+-------------+-----+\n",
      "|  race_source|count|\n",
      "+-------------+-----+\n",
      "|not_available| 6204|\n",
      "|         null| 1389|\n",
      "|        photo|  545|\n",
      "|public_record|  520|\n",
      "|         clip|   97|\n",
      "| undetermined|   16|\n",
      "|        other|    4|\n",
      "+-------------+-----+\n",
      "\n"
     ]
    }
   ],
   "source": [
    "# Race Source; how the race of the individual was obtained\n",
    "spark.sql(\"SELECT race_source, count(*) as count FROM policeShootings GROUP BY race_source ORDER BY count DESC\").show()"
   ]
  },
  {
   "cell_type": "code",
   "execution_count": 16,
   "metadata": {},
   "outputs": [],
   "source": [
    "policeShootingsNorm = spark.sql(\"\"\"\n",
    "        SELECT \n",
    "            name,\n",
    "            armed,\n",
    "            mental_illness,\n",
    "            threat_level,\n",
    "            flee,\n",
    "            city,\n",
    "            body_camera,\n",
    "            CASE\n",
    "                WHEN race = 'A' THEN 'Asian'\n",
    "                WHEN race = 'B' THEN 'Black'\n",
    "                WHEN race = 'N' THEN 'Native'\n",
    "                WHEN race = 'H' THEN 'Hispanic'\n",
    "                WHEN race = 'W' THEN 'White'\n",
    "                WHEN race = 'O' THEN 'Other'\n",
    "                WHEN race = 'B;H' THEN 'Black and Hispanic'\n",
    "                ELSE 'Not Documented'\n",
    "            END as race\n",
    "        FROM    \n",
    "          policeShootings\n",
    "\n",
    "\"\"\")\n",
    "policeShootingsNorm.createOrReplaceTempView('policeShootingsNorm')"
   ]
  },
  {
   "cell_type": "markdown",
   "metadata": {},
   "source": [
    "### Exploring Records Where Race Was Not Document"
   ]
  },
  {
   "cell_type": "code",
   "execution_count": 17,
   "metadata": {},
   "outputs": [
    {
     "name": "stdout",
     "output_type": "stream",
     "text": [
      "+--------------------+-------+--------------+--------------+-----------+-----+-----------+\n",
      "|                name|  armed|          race|mental_illness|threat_type| flee|body_camera|\n",
      "+--------------------+-------+--------------+--------------+-----------+-----+-----------+\n",
      "|    William Campbell|    gun|Not Documented|         false|      point|  not|      false|\n",
      "|  John Marcell Allen|    gun|Not Documented|         false|      shoot|  not|      false|\n",
      "|          Mark Smith|   null|Not Documented|         false|     attack|other|      false|\n",
      "|          Joseph Roy|  knife|Not Documented|          true|     threat|  not|      false|\n",
      "|James Anthony Morris|    gun|Not Documented|          true|      shoot|  not|      false|\n",
      "|       James Johnson|    gun|Not Documented|          true|      point|  not|      false|\n",
      "|    Raymond Phillips|    gun|Not Documented|          true|      point|  not|      false|\n",
      "|       Brian Johnson|  other|Not Documented|          true|     attack|  not|      false|\n",
      "|    Charles Crandall|    gun|Not Documented|         false|      shoot|  not|      false|\n",
      "|          David Cook|    gun|Not Documented|         false|      shoot|  not|      false|\n",
      "|Robert Patrick Quinn|replica|Not Documented|          true|      point|  not|      false|\n",
      "|       Bruce Santino|  knife|Not Documented|          true|     threat|  not|      false|\n",
      "|Donaven Kyle Ande...|    gun|Not Documented|         false|      shoot|  not|      false|\n",
      "|Michael Donald Clark|    gun|Not Documented|         false|      shoot|  not|      false|\n",
      "|       Jason Foreman|    gun|Not Documented|         false|      shoot|  not|      false|\n",
      "|          John Tozzi|    gun|Not Documented|         false|      shoot|  not|      false|\n",
      "|         Larry Busby|    gun|Not Documented|         false|      shoot|  not|      false|\n",
      "|Martin Arturo Rivera|    gun|Not Documented|          true|     threat|  not|      false|\n",
      "|         Freddy Baez|    gun|Not Documented|         false|      shoot|  not|      false|\n",
      "|                null|    gun|Not Documented|         false|      point|  not|      false|\n",
      "+--------------------+-------+--------------+--------------+-----------+-----+-----------+\n",
      "only showing top 20 rows\n",
      "\n"
     ]
    }
   ],
   "source": [
    "# Shootings where race of victim isn't documented\n",
    "spark.sql(\"\"\"\n",
    "    SELECT name, armed, race, mental_illness, threat_level, flee, body_camera \n",
    "    FROM policeShootingsNorm \n",
    "    WHERE race = 'Not Documented'\n",
    "\"\"\").show()"
   ]
  },
  {
   "cell_type": "code",
   "execution_count": 18,
   "metadata": {},
   "outputs": [
    {
     "name": "stdout",
     "output_type": "stream",
     "text": [
      "+--------------------+------------+--------------+--------------+------------+----+-----------+\n",
      "|                name|       armed|          race|mental_illness| threat_type|flee|body_camera|\n",
      "+--------------------+------------+--------------+--------------+------------+----+-----------+\n",
      "|      Ernesto Gamino|undetermined|      Hispanic|         false|undetermined|null|      false|\n",
      "|   Randy Allen Smith|         gun|         Black|         false|       point|null|      false|\n",
      "|     Zachary Grigsby|         gun|         White|         false|       shoot|null|      false|\n",
      "|         Roy Carreon|       knife|      Hispanic|         false|      attack|null|      false|\n",
      "|   Efrain Villanueva|     unknown|Not Documented|         false|      attack|null|      false|\n",
      "|        Bettie Jones|     unarmed|         Black|         false|    accident|null|      false|\n",
      "|  John Randell Veach|undetermined|Not Documented|         false|undetermined|null|      false|\n",
      "|John Alan Chamber...|undetermined|Not Documented|         false|undetermined|null|      false|\n",
      "|       Scott Bennett|         gun|         Black|         false|       shoot|null|      false|\n",
      "|Preston Paul Pere...|     unarmed|         White|         false|undetermined|null|      false|\n",
      "|  James Allen Nickol|         gun|         White|         false|       shoot|null|      false|\n",
      "|Kawme Dejuan Patrick|         gun|         Black|         false|        move|null|      false|\n",
      "|      Joshua Bolster|       knife|         White|         false|      threat|null|      false|\n",
      "|Paul Edward Yacab...|         gun|         White|         false|       shoot|null|      false|\n",
      "| Juan Reynaldo Duran|         gun|      Hispanic|         false|      threat|null|      false|\n",
      "|  Kheyanev Littledog|         gun|        Native|         false|      threat|null|      false|\n",
      "|         Shawn Pappe|       knife|         White|          true|      threat|null|      false|\n",
      "|   William Frost Jr.|       knife|         White|         false|      threat|null|      false|\n",
      "| Edward Lowell Hills|         gun|Not Documented|          true|      threat|null|      false|\n",
      "|     George Delacruz|         gun|      Hispanic|         false|undetermined|null|      false|\n",
      "+--------------------+------------+--------------+--------------+------------+----+-----------+\n",
      "only showing top 20 rows\n",
      "\n"
     ]
    }
   ],
   "source": [
    "# Shootings where victims fled status wasn't documented\n",
    "spark.sql('SELECT name, armed, race, mental_illness, threat_level, flee, body_camera FROM policeShootingsNorm where flee is NULL').show()"
   ]
  },
  {
   "cell_type": "markdown",
   "metadata": {},
   "source": [
    "### San Diego City, California"
   ]
  },
  {
   "cell_type": "code",
   "execution_count": 19,
   "metadata": {},
   "outputs": [
    {
     "name": "stdout",
     "output_type": "stream",
     "text": [
      "+--------------------+------------+--------------+--------------+-----------+-----+-----------+\n",
      "|                name|       armed|          race|mental_illness|threat_type| flee|body_camera|\n",
      "+--------------------+------------+--------------+--------------+-----------+-----+-----------+\n",
      "|Fridoon Zalbeg Nehad|     unarmed|         Other|          true|       move|  not|       true|\n",
      "|         Dennis Fiel|         gun|         White|          true|      shoot| foot|       true|\n",
      "|          Ton Nguyen|       knife|         Asian|         false|     threat|  not|      false|\n",
      "|        Robert Hober|       knife|         White|         false|     threat|  not|       true|\n",
      "|      Lamontez Jones|     replica|         Black|         false|      point|  not|      false|\n",
      "|       Joshua Sisson|       knife|         White|         false|     threat|  not|       true|\n",
      "|Thongsoune Vilaysane|        null|         Asian|         false|       move|  car|       true|\n",
      "|Juan Carlos Ferna...|         gun|      Hispanic|         false|      shoot|  not|       true|\n",
      "|      Jacob Peterson|     replica|         White|          true|      point|  not|       true|\n",
      "|                null|         gun|         Black|         false|     threat|  not|      false|\n",
      "|         Raul Rivera|       knife|      Hispanic|          true|     threat|  not|       true|\n",
      "|                null|         gun|Not Documented|         false|      shoot|  not|      false|\n",
      "|       Vaughn Denham|       other|         Black|         false|     attack|  not|      false|\n",
      "|   Alfonso Cervantes|         gun|      Hispanic|          true|      point|  not|       true|\n",
      "|       Nicholas Bils|     unarmed|         White|          true|       flee| foot|      false|\n",
      "|         Ronnie Kong|         gun|Not Documented|         false|      point| null|       true|\n",
      "|Leonardo Hurtado ...|         gun|      Hispanic|         false|      point| foot|       true|\n",
      "| Richard Lewis Price|     replica|         Black|          true|      point|  not|       true|\n",
      "|Jose Alfredo Cast...|blunt_object|      Hispanic|          true|     attack|  not|       true|\n",
      "|Christopher Templ...|         gun|      Hispanic|         false|     threat|other|      false|\n",
      "+--------------------+------------+--------------+--------------+-----------+-----+-----------+\n",
      "only showing top 20 rows\n",
      "\n"
     ]
    }
   ],
   "source": [
    "spark.sql(\"\"\"\n",
    "    SELECT name, armed, race, mental_illness, threat_level, flee, body_camera \n",
    "    FROM policeShootingsNorm \n",
    "    WHERE city = 'San Diego'\n",
    "\"\"\").show()"
   ]
  },
  {
   "cell_type": "markdown",
   "metadata": {},
   "source": [
    "## Police Shooting (Agencies) Data "
   ]
  },
  {
   "cell_type": "code",
   "execution_count": 20,
   "metadata": {},
   "outputs": [],
   "source": [
    "# Schema of the Police Shootings Agency Dataset (Oct 2023)\n",
    "psaSchema = StructType([\\\n",
    "                       StructField('id', IntegerType(), False),\n",
    "                       StructField('name', StringType(), True),\n",
    "                       StructField('type', StringType(), True),\n",
    "                       StructField('state', StringType(), True),\n",
    "                       StructField('oricodes', StringType(), True),\n",
    "                       StructField('total_shootings', IntegerType(), True)\n",
    "                        ])                     "
   ]
  },
  {
   "cell_type": "code",
   "execution_count": 21,
   "metadata": {},
   "outputs": [],
   "source": [
    "# Creating Dataframe and Temp View\n",
    "psaDF = spark.read.option('header', 'True').schema(psaSchema).csv(config['pathways']['police_shootings_agencies'])\n",
    "psaDF.createOrReplaceTempView('policeShootingsAgencies')"
   ]
  },
  {
   "cell_type": "markdown",
   "metadata": {},
   "source": [
    "### Preview of the Data"
   ]
  },
  {
   "cell_type": "code",
   "execution_count": 22,
   "metadata": {},
   "outputs": [
    {
     "name": "stdout",
     "output_type": "stream",
     "text": [
      "+----+--------------------+------------+-----+--------+---------------+\n",
      "|  id|                name|        type|state|oricodes|total_shootings|\n",
      "+----+--------------------+------------+-----+--------+---------------+\n",
      "|3145|Abbeville County ...|     sheriff|   SC| SC00100|              1|\n",
      "|2576|Aberdeen Police D...|local_police|   WA| WA01401|              1|\n",
      "|2114|Abilene Police De...|local_police|   TX| TX22101|              3|\n",
      "|2088|Abington Township...|local_police|   PA| PA04601|              1|\n",
      "|3187|Acadia Parish She...|     sheriff|   LA| LA00100|              1|\n",
      "+----+--------------------+------------+-----+--------+---------------+\n",
      "only showing top 5 rows\n",
      "\n"
     ]
    }
   ],
   "source": [
    "# First half of the columns\n",
    "psaDF.select('id', 'name', 'type', 'state', 'oricodes', 'total_shootings').show(5)"
   ]
  },
  {
   "cell_type": "markdown",
   "metadata": {},
   "source": [
    "### Agency with the Most Recorded Shootings"
   ]
  },
  {
   "cell_type": "code",
   "execution_count": 23,
   "metadata": {},
   "outputs": [
    {
     "name": "stdout",
     "output_type": "stream",
     "text": [
      "+---+--------------------+------------+-----+---------------+\n",
      "| id|                name|        type|state|total_shootings|\n",
      "+---+--------------------+------------+-----+---------------+\n",
      "| 38|Los Angeles Polic...|local_police|   CA|            129|\n",
      "| 80|Phoenix Police De...|local_police|   AZ|            109|\n",
      "| 20|Los Angeles Count...|     sheriff|   CA|            103|\n",
      "|102|Houston Police De...|local_police|   TX|             76|\n",
      "|298|New York Police D...|local_police|   NY|             65|\n",
      "|375|Las Vegas Metropo...|local_police|   NV|             64|\n",
      "| 44|San Antonio Polic...|local_police|   TX|             60|\n",
      "| 19|Pennsylvania Stat...|state_police|   PA|             57|\n",
      "|266|California Highwa...|state_police|   CA|             55|\n",
      "|267|Riverside County ...|     sheriff|   CA|             53|\n",
      "+---+--------------------+------------+-----+---------------+\n",
      "only showing top 10 rows\n",
      "\n"
     ]
    }
   ],
   "source": [
    "spark.sql(\"\"\"\n",
    "    SELECT id, name, type, state, total_shootings \n",
    "    FROM policeShootingsAgencies\n",
    "    ORDER BY total_shootings DESC\n",
    "\"\"\").show(10)"
   ]
  },
  {
   "cell_type": "markdown",
   "metadata": {},
   "source": [
    "### State with the Most Total Shootings By Department Type"
   ]
  },
  {
   "cell_type": "code",
   "execution_count": 24,
   "metadata": {},
   "outputs": [
    {
     "name": "stdout",
     "output_type": "stream",
     "text": [
      "+-----+------------+---------------+\n",
      "|state|        type|total_shootings|\n",
      "+-----+------------+---------------+\n",
      "|   CA|local_police|            805|\n",
      "|   TX|local_police|            588|\n",
      "|   AZ|local_police|            314|\n",
      "|   FL|local_police|            239|\n",
      "|   CO|local_police|            238|\n",
      "|   GA|local_police|            179|\n",
      "|   OH|local_police|            176|\n",
      "|   MO|local_police|            174|\n",
      "|   OK|local_police|            172|\n",
      "|   WA|local_police|            162|\n",
      "+-----+------------+---------------+\n",
      "only showing top 10 rows\n",
      "\n"
     ]
    }
   ],
   "source": [
    "# Local Police\n",
    "spark.sql(\"\"\"\n",
    "    SELECT state, type, sum(total_shootings) as total_shootings\n",
    "    FROM policeShootingsAgencies\n",
    "    WHERE type = 'local_police'\n",
    "    GROUP BY state, type\n",
    "    ORDER BY total_shootings DESC\n",
    "\"\"\").show(10)"
   ]
  },
  {
   "cell_type": "code",
   "execution_count": 25,
   "metadata": {},
   "outputs": [
    {
     "name": "stdout",
     "output_type": "stream",
     "text": [
      "+-----+-------+---------------+\n",
      "|state|   type|total_shootings|\n",
      "+-----+-------+---------------+\n",
      "|   CA|sheriff|            399|\n",
      "|   FL|sheriff|            324|\n",
      "|   TX|sheriff|            177|\n",
      "|   GA|sheriff|            155|\n",
      "|   NC|sheriff|            114|\n",
      "|   TN|sheriff|            109|\n",
      "|   SC|sheriff|            104|\n",
      "|   LA|sheriff|            100|\n",
      "|   WA|sheriff|             84|\n",
      "|   CO|sheriff|             82|\n",
      "+-----+-------+---------------+\n",
      "only showing top 10 rows\n",
      "\n"
     ]
    }
   ],
   "source": [
    "# Sheriff\n",
    "spark.sql(\"\"\"\n",
    "    SELECT state, type, sum(total_shootings) as total_shootings\n",
    "    FROM policeShootingsAgencies\n",
    "    WHERE type = 'sheriff'\n",
    "    GROUP BY state, type\n",
    "    ORDER BY total_shootings DESC\n",
    "\"\"\").show(10)"
   ]
  },
  {
   "cell_type": "code",
   "execution_count": 26,
   "metadata": {},
   "outputs": [
    {
     "name": "stdout",
     "output_type": "stream",
     "text": [
      "+-----+------------+---------------+\n",
      "|state|        type|total_shootings|\n",
      "+-----+------------+---------------+\n",
      "|   PA|state_police|             58|\n",
      "|   TX|state_police|             57|\n",
      "|   CA|state_police|             55|\n",
      "|   KY|state_police|             48|\n",
      "|   AK|state_police|             30|\n",
      "|   OR|state_police|             26|\n",
      "|   GA|state_police|             25|\n",
      "|   NM|state_police|             25|\n",
      "|   MI|state_police|             25|\n",
      "|   WV|state_police|             23|\n",
      "+-----+------------+---------------+\n",
      "only showing top 10 rows\n",
      "\n"
     ]
    }
   ],
   "source": [
    "# State Police\n",
    "spark.sql(\"\"\"\n",
    "    SELECT state, type, sum(total_shootings) as total_shootings\n",
    "    FROM policeShootingsAgencies\n",
    "    WHERE type = 'state_police'\n",
    "    GROUP BY state, type\n",
    "    ORDER BY total_shootings DESC\n",
    "\"\"\").show(10)"
   ]
  },
  {
   "cell_type": "code",
   "execution_count": 27,
   "metadata": {},
   "outputs": [
    {
     "name": "stdout",
     "output_type": "stream",
     "text": [
      "+-----+-------+---------------+\n",
      "|state|   type|total_shootings|\n",
      "+-----+-------+---------------+\n",
      "|   TX|federal|             31|\n",
      "|   AZ|federal|             17|\n",
      "|   CA|federal|             15|\n",
      "|   NM|federal|             12|\n",
      "|   US|federal|             10|\n",
      "|   TN|federal|              9|\n",
      "|   MO|federal|              8|\n",
      "|   OH|federal|              7|\n",
      "|   MT|federal|              7|\n",
      "|   PA|federal|              7|\n",
      "+-----+-------+---------------+\n",
      "only showing top 10 rows\n",
      "\n"
     ]
    }
   ],
   "source": [
    "# Federal\n",
    "spark.sql(\"\"\"\n",
    "    SELECT state, type, sum(total_shootings) as total_shootings\n",
    "    FROM policeShootingsAgencies\n",
    "    WHERE type = 'federal'\n",
    "    GROUP BY state, type\n",
    "    ORDER BY total_shootings DESC\n",
    "\"\"\").show(10)"
   ]
  },
  {
   "cell_type": "code",
   "execution_count": 28,
   "metadata": {},
   "outputs": [
    {
     "name": "stdout",
     "output_type": "stream",
     "text": [
      "+--------------------+------------+---------------+\n",
      "|               state|        type|total_shootings|\n",
      "+--------------------+------------+---------------+\n",
      "|San Diego Police ...|local_police|             38|\n",
      "|San Diego County ...|     sheriff|             17|\n",
      "+--------------------+------------+---------------+\n",
      "\n"
     ]
    }
   ],
   "source": [
    "# San Diego (From 2015 to 2023)\n",
    "spark.sql(\"\"\"\n",
    "    SELECT name state, type, total_shootings\n",
    "    FROM policeShootingsAgencies\n",
    "    WHERE name like '%San Diego%'\n",
    "    ORDER BY total_shootings DESC\n",
    "\"\"\").show(10)"
   ]
  },
  {
   "cell_type": "markdown",
   "metadata": {},
   "source": [
    "## Joining Police Shootings & Agency Data"
   ]
  },
  {
   "cell_type": "code",
   "execution_count": 29,
   "metadata": {},
   "outputs": [
    {
     "name": "stdout",
     "output_type": "stream",
     "text": [
      "+--------------------+--------------------+-----+---------------+--------------------------+\n",
      "|         victim_name|         agency_name|state|department_type|department_total_shootings|\n",
      "+--------------------+--------------------+-----+---------------+--------------------------+\n",
      "| Evin Kimberly Payne|Abbeville County ...|   SC|        sheriff|                         1|\n",
      "|Kristopher Fitzpa...|Aberdeen Police D...|   WA|   local_police|                         1|\n",
      "|        Kevin Greene|Abilene Police De...|   TX|   local_police|                         3|\n",
      "|    Lebarron Ballard|Abilene Police De...|   TX|   local_police|                         3|\n",
      "|Michael Leroy McG...|Abilene Police De...|   TX|   local_police|                         3|\n",
      "|    Angel Luis Ortiz|Abington Township...|   PA|   local_police|                         1|\n",
      "|                null|Acadia Parish She...|   LA|        sheriff|                         1|\n",
      "|   Gabriel Scott Rau|Acworth Police De...|   GA|   local_police|                         1|\n",
      "|        Jared Decker|Ada County Sherif...|   ID|        sheriff|                         3|\n",
      "|          Lee Easter|Ada County Sherif...|   ID|        sheriff|                         3|\n",
      "|     Stoney McJunkin|Adair County Sher...|   OK|        sheriff|                         1|\n",
      "|                null|Adams County Sher...|   CO|        sheriff|                        12|\n",
      "|                null|Adams County Sher...|   CO|        sheriff|                        12|\n",
      "|                null|Adams County Sher...|   CO|        sheriff|                        12|\n",
      "|    Harmony Wolfgram|Adams County Sher...|   CO|        sheriff|                        12|\n",
      "|    Keith Alan Bruce|Adams County Sher...|   CO|        sheriff|                        12|\n",
      "|        Anthony Pena|Adams County Sher...|   CO|        sheriff|                        12|\n",
      "|                null|Adams County Sher...|   CO|        sheriff|                        12|\n",
      "|                null|Adams County Sher...|   CO|        sheriff|                        12|\n",
      "|       Bailey Turner|Adams County Sher...|   CO|        sheriff|                        12|\n",
      "+--------------------+--------------------+-----+---------------+--------------------------+\n",
      "only showing top 20 rows\n",
      "\n"
     ]
    }
   ],
   "source": [
    "spark.sql(\"\"\"\n",
    "    SELECT ps.name as victim_name, psa.name as agency_name, psa.state, \n",
    "        psa.type as department_type, psa.total_shootings as department_total_shootings\n",
    "    FROM policeShootings as ps\n",
    "    JOIN policeShootingsAgencies as psa\n",
    "    ON ps.agency_ids = psa.id\n",
    "\"\"\").show(20)"
   ]
  },
  {
   "cell_type": "code",
   "execution_count": null,
   "metadata": {},
   "outputs": [],
   "source": [
    "spark.stop()"
   ]
  }
 ],
 "metadata": {
  "kernelspec": {
   "display_name": "Python 3",
   "language": "python",
   "name": "python3"
  },
  "language_info": {
   "codemirror_mode": {
    "name": "ipython",
    "version": 3
   },
   "file_extension": ".py",
   "mimetype": "text/x-python",
   "name": "python",
   "nbconvert_exporter": "python",
   "pygments_lexer": "ipython3",
   "version": "3.6.9"
  }
 },
 "nbformat": 4,
 "nbformat_minor": 2
}
