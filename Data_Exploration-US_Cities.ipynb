{
 "cells": [
  {
   "cell_type": "markdown",
   "metadata": {},
   "source": [
    "# Data Exploration for Police Shooting Data\n",
    "\n",
    "**[Synopsis] The following explores the US Cities dataset pertaining to the Police Shooting Dashboard**\n",
    "\n",
    "Use the following URL:\n",
    "* [US Cities Data](https://simplemaps.com/data/us-cities)\n",
    "\n",
    "*****"
   ]
  },
  {
   "cell_type": "code",
   "execution_count": 1,
   "metadata": {},
   "outputs": [
    {
     "data": {
      "text/plain": [
       "['config.ini']"
      ]
     },
     "execution_count": 1,
     "metadata": {},
     "output_type": "execute_result"
    }
   ],
   "source": [
    "import requests\n",
    "import configparser\n",
    "config = configparser.ConfigParser()\n",
    "config.read('config.ini')"
   ]
  },
  {
   "cell_type": "code",
   "execution_count": 2,
   "metadata": {},
   "outputs": [],
   "source": [
    "from pyspark.sql import SparkSession\n",
    "from pyspark.sql import functions as func\n",
    "from pyspark.sql.types import StructType, StructField, StringType, DateType, IntegerType, BooleanType, FloatType\n",
    "\n",
    "spark = SparkSession.builder.master('local[*]').appName('DataExploration').getOrCreate()"
   ]
  },
  {
   "cell_type": "code",
   "execution_count": 3,
   "metadata": {},
   "outputs": [],
   "source": [
    "# Creating Dataframe and Temp View\n",
    "usCitiesDF = spark.read.option('header', 'True').option('inferSchema', 'true').csv(config['pathways']['usCities'])\n",
    "usCitiesDF.createOrReplaceTempView('usCities')"
   ]
  },
  {
   "cell_type": "code",
   "execution_count": 5,
   "metadata": {},
   "outputs": [
    {
     "name": "stdout",
     "output_type": "stream",
     "text": [
      "root\n",
      " |-- city: string (nullable = true)\n",
      " |-- city_ascii: string (nullable = true)\n",
      " |-- state_id: string (nullable = true)\n",
      " |-- state_name: string (nullable = true)\n",
      " |-- county_fips: integer (nullable = true)\n",
      " |-- county_name: string (nullable = true)\n",
      " |-- lat: double (nullable = true)\n",
      " |-- lng: double (nullable = true)\n",
      " |-- population: integer (nullable = true)\n",
      " |-- density: integer (nullable = true)\n",
      " |-- source: string (nullable = true)\n",
      " |-- military: boolean (nullable = true)\n",
      " |-- incorporated: boolean (nullable = true)\n",
      " |-- timezone: string (nullable = true)\n",
      " |-- ranking: integer (nullable = true)\n",
      " |-- zips: string (nullable = true)\n",
      " |-- id: integer (nullable = true)\n",
      "\n"
     ]
    }
   ],
   "source": [
    "usCitiesDF.printSchema()"
   ]
  },
  {
   "cell_type": "markdown",
   "metadata": {},
   "source": [
    "### Data Preview"
   ]
  },
  {
   "cell_type": "code",
   "execution_count": 8,
   "metadata": {},
   "outputs": [
    {
     "name": "stdout",
     "output_type": "stream",
     "text": [
      "+-------------+-------------+--------+--------------------+--------------------+-------+---------+----------+\n",
      "|         city|   city_ascii|state_id|          state_name|         county_name|    lat|      lng|population|\n",
      "+-------------+-------------+--------+--------------------+--------------------+-------+---------+----------+\n",
      "|     New York|     New York|      NY|            New York|            New York|40.6943| -73.9249|  18713220|\n",
      "|  Los Angeles|  Los Angeles|      CA|          California|         Los Angeles|34.1139|-118.4068|  12750807|\n",
      "|      Chicago|      Chicago|      IL|            Illinois|                Cook|41.8373| -87.6862|   8604203|\n",
      "|        Miami|        Miami|      FL|             Florida|          Miami-Dade|25.7839| -80.2102|   6445545|\n",
      "|       Dallas|       Dallas|      TX|               Texas|              Dallas|32.7936| -96.7662|   5743938|\n",
      "| Philadelphia| Philadelphia|      PA|        Pennsylvania|        Philadelphia|40.0077| -75.1339|   5649300|\n",
      "|      Houston|      Houston|      TX|               Texas|              Harris|29.7863| -95.3889|   5464251|\n",
      "|      Atlanta|      Atlanta|      GA|             Georgia|              Fulton|33.7627| -84.4224|   5449398|\n",
      "|   Washington|   Washington|      DC|District of Columbia|District of Columbia|38.9047| -77.0163|   5379184|\n",
      "|       Boston|       Boston|      MA|       Massachusetts|             Suffolk|42.3188| -71.0846|   4688346|\n",
      "|      Phoenix|      Phoenix|      AZ|             Arizona|            Maricopa|33.5722|-112.0891|   4219697|\n",
      "|      Seattle|      Seattle|      WA|          Washington|                King|47.6211|-122.3244|   3789215|\n",
      "|San Francisco|San Francisco|      CA|          California|       San Francisco|37.7562| -122.443|   3592294|\n",
      "|      Detroit|      Detroit|      MI|            Michigan|               Wayne|42.3834| -83.1024|   3506126|\n",
      "|    San Diego|    San Diego|      CA|          California|           San Diego|32.8312|-117.1225|   3220118|\n",
      "|  Minneapolis|  Minneapolis|      MN|           Minnesota|            Hennepin|44.9635| -93.2678|   2977172|\n",
      "|        Tampa|        Tampa|      FL|             Florida|        Hillsborough|27.9942| -82.4451|   2908063|\n",
      "|       Denver|       Denver|      CO|            Colorado|              Denver|39.7621|-104.8759|   2876625|\n",
      "|     Brooklyn|     Brooklyn|      NY|            New York|               Kings|40.6501| -73.9496|   2559903|\n",
      "|       Queens|       Queens|      NY|            New York|              Queens|40.7498| -73.7976|   2230722|\n",
      "+-------------+-------------+--------+--------------------+--------------------+-------+---------+----------+\n",
      "only showing top 20 rows\n",
      "\n"
     ]
    }
   ],
   "source": [
    "usCitiesDF.select('city', 'city_ascii', 'state_id', 'state_name', 'county_name', 'lat', 'lng', 'population').show()"
   ]
  },
  {
   "cell_type": "code",
   "execution_count": 10,
   "metadata": {},
   "outputs": [
    {
     "name": "stdout",
     "output_type": "stream",
     "text": [
      "+-------+-------+--------+------------+-------------------+-------+--------------------+----------+\n",
      "|density| source|military|incorporated|           timezone|ranking|                zips|        id|\n",
      "+-------+-------+--------+------------+-------------------+-------+--------------------+----------+\n",
      "|  10715|polygon|   false|        true|   America/New_York|      1|11229 11226 11225...|1840034016|\n",
      "|   3276|polygon|   false|        true|America/Los_Angeles|      1|90291 90293 90292...|1840020491|\n",
      "|   4574|polygon|   false|        true|    America/Chicago|      1|60018 60649 60641...|1840000494|\n",
      "|   5019|polygon|   false|        true|   America/New_York|      1|33129 33125 33126...|1840015149|\n",
      "|   1526|polygon|   false|        true|    America/Chicago|      1|75287 75098 75233...|1840019440|\n",
      "|   4554|polygon|   false|        true|   America/New_York|      1|19154 19151 19150...|1840000673|\n",
      "|   1399|polygon|   false|        true|    America/Chicago|      1|77069 77068 77061...|1840020925|\n",
      "|   1441|polygon|   false|        true|   America/New_York|      1|30334 30331 30332...|1840013660|\n",
      "|   4457|polygon|   false|        true|   America/New_York|      1|20010 20011 20012...|1840006060|\n",
      "|   5532|polygon|   false|        true|   America/New_York|      1|02120 02121 02122...|1840000455|\n",
      "|   1253|polygon|   false|        true|    America/Phoenix|      1|85008 85009 85006...|1840020568|\n",
      "|   3469|polygon|   false|        true|America/Los_Angeles|      1|98109 98108 98104...|1840021117|\n",
      "|   7256|polygon|   false|        true|America/Los_Angeles|      1|94130 94131 94132...|1840021543|\n",
      "|   1864|polygon|   false|        true|    America/Detroit|      1|48209 48208 48201...|1840003971|\n",
      "|   1686|polygon|   false|        true|America/Los_Angeles|      1|92109 92108 92103...|1840021990|\n",
      "|   3071|polygon|   false|        true|    America/Chicago|      1|55403 55409 55408...|1840007830|\n",
      "|   1353|polygon|   false|        true|   America/New_York|      1|33637 33629 33621...|1840015982|\n",
      "|   1831|polygon|   false|        true|     America/Denver|      1|80264 80230 80231...|1840018789|\n",
      "|  14221|polygon|   false|        true|   America/New_York|      1|11212 11213 11216...|1840034030|\n",
      "|   7885|polygon|   false|        true|   America/New_York|      1|11361 11362 11363...|1840034002|\n",
      "+-------+-------+--------+------------+-------------------+-------+--------------------+----------+\n",
      "only showing top 20 rows\n",
      "\n"
     ]
    }
   ],
   "source": [
    "usCitiesDF.select('density', 'source', 'military', 'incorporated', 'timezone', 'ranking', 'zips', 'id').show()"
   ]
  },
  {
   "cell_type": "markdown",
   "metadata": {},
   "source": [
    "### Relevant Columns"
   ]
  },
  {
   "cell_type": "code",
   "execution_count": 12,
   "metadata": {},
   "outputs": [
    {
     "name": "stdout",
     "output_type": "stream",
     "text": [
      "+--------+--------------------+-------------+--------------------+\n",
      "|state_id|          state_name|         city|         county_name|\n",
      "+--------+--------------------+-------------+--------------------+\n",
      "|      NY|            New York|     New York|            New York|\n",
      "|      CA|          California|  Los Angeles|         Los Angeles|\n",
      "|      IL|            Illinois|      Chicago|                Cook|\n",
      "|      FL|             Florida|        Miami|          Miami-Dade|\n",
      "|      TX|               Texas|       Dallas|              Dallas|\n",
      "|      PA|        Pennsylvania| Philadelphia|        Philadelphia|\n",
      "|      TX|               Texas|      Houston|              Harris|\n",
      "|      GA|             Georgia|      Atlanta|              Fulton|\n",
      "|      DC|District of Columbia|   Washington|District of Columbia|\n",
      "|      MA|       Massachusetts|       Boston|             Suffolk|\n",
      "|      AZ|             Arizona|      Phoenix|            Maricopa|\n",
      "|      WA|          Washington|      Seattle|                King|\n",
      "|      CA|          California|San Francisco|       San Francisco|\n",
      "|      MI|            Michigan|      Detroit|               Wayne|\n",
      "|      CA|          California|    San Diego|           San Diego|\n",
      "|      MN|           Minnesota|  Minneapolis|            Hennepin|\n",
      "|      FL|             Florida|        Tampa|        Hillsborough|\n",
      "|      CO|            Colorado|       Denver|              Denver|\n",
      "|      NY|            New York|     Brooklyn|               Kings|\n",
      "|      NY|            New York|       Queens|              Queens|\n",
      "+--------+--------------------+-------------+--------------------+\n",
      "only showing top 20 rows\n",
      "\n"
     ]
    }
   ],
   "source": [
    "# Relevant Columns, \n",
    "usCitiesDF.select('state_id', 'state_name', 'city', 'county_name').show()"
   ]
  },
  {
   "cell_type": "code",
   "execution_count": 15,
   "metadata": {},
   "outputs": [
    {
     "name": "stdout",
     "output_type": "stream",
     "text": [
      "+--------+----------+-----------+-------+\n",
      "|state_id|state_name|county_name|   city|\n",
      "+--------+----------+-----------+-------+\n",
      "|      WA|Washington|      Mason|Shelton|\n",
      "+--------+----------+-----------+-------+\n",
      "\n"
     ]
    }
   ],
   "source": [
    "spark.sql(\"\"\"\n",
    "    SELECT \n",
    "        state_id,\n",
    "        state_name,\n",
    "        county_name,\n",
    "        city\n",
    "    FROM usCities where state_id = 'WA' and city = 'Shelton'\n",
    "\"\"\").show()"
   ]
  }
 ],
 "metadata": {
  "kernelspec": {
   "display_name": "Python 3",
   "language": "python",
   "name": "python3"
  },
  "language_info": {
   "codemirror_mode": {
    "name": "ipython",
    "version": 3
   },
   "file_extension": ".py",
   "mimetype": "text/x-python",
   "name": "python",
   "nbconvert_exporter": "python",
   "pygments_lexer": "ipython3",
   "version": "3.6.9"
  }
 },
 "nbformat": 4,
 "nbformat_minor": 2
}
