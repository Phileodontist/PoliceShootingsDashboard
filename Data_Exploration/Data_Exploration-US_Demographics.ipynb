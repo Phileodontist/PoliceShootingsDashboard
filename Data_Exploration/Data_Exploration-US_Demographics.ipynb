{
 "cells": [
  {
   "cell_type": "markdown",
   "metadata": {},
   "source": [
    "# Data Exploration of US Demographics Data\n",
    "\n",
    "**[Synopsis] The following explores the US Demographics dataset pertaining to the Police Shooting Dashboard**\n",
    "\n",
    "**Reference**::\n",
    "* [US Demographics Data](https://api.careeronestop.org/api-explorer/home/index/UnEmployment_GetUnEmploymentType)\n",
    "\n",
    "*****"
   ]
  },
  {
   "cell_type": "code",
   "execution_count": 1,
   "metadata": {},
   "outputs": [
    {
     "data": {
      "text/plain": [
       "['config.ini']"
      ]
     },
     "execution_count": 1,
     "metadata": {},
     "output_type": "execute_result"
    }
   ],
   "source": [
    "import os\n",
    "import requests\n",
    "import configparser\n",
    "config = configparser.ConfigParser()\n",
    "config.read(os.path.join(os.path.dirname(os.getcwd()), 'config.ini'))"
   ]
  },
  {
   "cell_type": "code",
   "execution_count": 2,
   "metadata": {},
   "outputs": [],
   "source": [
    "from pyspark.sql import SparkSession\n",
    "from pyspark.sql import functions as func\n",
    "from pyspark.sql.types import StructType, StructField, StringType, BooleanType, IntegerType, LongType\n",
    "\n",
    "spark = SparkSession.builder.master('local[*]').appName('DataExploration').getOrCreate()"
   ]
  },
  {
   "cell_type": "markdown",
   "metadata": {},
   "source": [
    "### Data Schema"
   ]
  },
  {
   "cell_type": "code",
   "execution_count": 3,
   "metadata": {},
   "outputs": [
    {
     "name": "stdout",
     "output_type": "stream",
     "text": [
      "root\n",
      " |-- state_name: string (nullable = true)\n",
      " |-- county_name: string (nullable = true)\n",
      " |-- population: integer (nullable = true)\n",
      " |-- race: string (nullable = true)\n",
      " |-- sex: string (nullable = true)\n",
      " |-- min_age: double (nullable = true)\n",
      " |-- max_age: double (nullable = true)\n",
      " |-- year: integer (nullable = true)\n",
      "\n"
     ]
    }
   ],
   "source": [
    "usDemoDF = spark.read.option('header', 'true').option('inferSchema', 'true').csv(config['pathways']['usDemographics'])\n",
    "usDemoDF.createOrReplaceTempView('usDemo')\n",
    "usDemoDF.printSchema()"
   ]
  },
  {
   "cell_type": "markdown",
   "metadata": {},
   "source": [
    "### Preview of the Data"
   ]
  },
  {
   "cell_type": "code",
   "execution_count": 3,
   "metadata": {},
   "outputs": [
    {
     "name": "stdout",
     "output_type": "stream",
     "text": [
      "+----------+--------------+----------+--------------------+------+-------+-------+----+\n",
      "|state_name|   county_name|population|                race|   sex|min_age|max_age|year|\n",
      "+----------+--------------+----------+--------------------+------+-------+-------+----+\n",
      "|   Alabama|Autauga County|      7473|BLACK OR AFRICAN ...|  null|   null|   null|2000|\n",
      "|   Alabama|Autauga County|         7|SOME OTHER RACE A...|Female|   15.0|   17.0|2000|\n",
      "|   Alabama|Autauga County|       452|         WHITE ALONE|  Male|   18.0|   19.0|2000|\n",
      "|   Alabama|Autauga County|         2|         ASIAN ALONE|Female|   20.0|   20.0|2000|\n",
      "|   Alabama|Autauga County|         9|AMERICAN INDIAN A...|  Male|   35.0|   39.0|2000|\n",
      "|   Alabama|Autauga County|         0|         ASIAN ALONE|Female|   60.0|   61.0|2000|\n",
      "|   Alabama|Autauga County|         1|         ASIAN ALONE|  Male|   10.0|   14.0|2000|\n",
      "|   Alabama|Autauga County|        10|   TWO OR MORE RACES|  Male|   30.0|   34.0|2000|\n",
      "|   Alabama|Autauga County|       781|         WHITE ALONE|Female|   15.0|   17.0|2000|\n",
      "|   Alabama|Autauga County|         2|   TWO OR MORE RACES|Female|   75.0|   79.0|2000|\n",
      "|   Alabama|Autauga County|       697|                null|Female|   22.0|   24.0|2000|\n",
      "|   Alabama|Autauga County|         0|SOME OTHER RACE A...|Female|   65.0|   66.0|2000|\n",
      "|   Alabama|Autauga County|       241|                null|  Male|   21.0|   21.0|2000|\n",
      "|   Alabama|Autauga County|       689|                null|  Male|   22.0|   24.0|2000|\n",
      "|   Alabama|Autauga County|       144|         WHITE ALONE|  Male|   80.0|   84.0|2000|\n",
      "|   Alabama|Autauga County|         6|SOME OTHER RACE A...|Female|   25.0|   29.0|2000|\n",
      "|   Alabama|Autauga County|       271|BLACK OR AFRICAN ...|  Male|   40.0|   44.0|2000|\n",
      "|   Alabama|Autauga County|        22|   TWO OR MORE RACES|Female|   null|    5.0|2000|\n",
      "|   Alabama|Autauga County|      1124|         WHITE ALONE|Female|   50.0|   54.0|2000|\n",
      "|   Alabama|Autauga County|       473|                null|Female|   67.0|   69.0|2000|\n",
      "+----------+--------------+----------+--------------------+------+-------+-------+----+\n",
      "only showing top 20 rows\n",
      "\n"
     ]
    }
   ],
   "source": [
    "# Unfiltered preview\n",
    "spark.sql('SELECT * FROM usDemo').show()"
   ]
  },
  {
   "cell_type": "markdown",
   "metadata": {},
   "source": [
    "### Total Count"
   ]
  },
  {
   "cell_type": "code",
   "execution_count": 4,
   "metadata": {},
   "outputs": [
    {
     "name": "stdout",
     "output_type": "stream",
     "text": [
      "+-----------+\n",
      "|total_count|\n",
      "+-----------+\n",
      "|    3664512|\n",
      "+-----------+\n",
      "\n"
     ]
    }
   ],
   "source": [
    "spark.sql('SELECT count(*) as total_count FROM usDemo').show()"
   ]
  },
  {
   "cell_type": "markdown",
   "metadata": {},
   "source": [
    "### Total Count for Year 2010"
   ]
  },
  {
   "cell_type": "code",
   "execution_count": 6,
   "metadata": {},
   "outputs": [
    {
     "name": "stdout",
     "output_type": "stream",
     "text": [
      "+-----------+\n",
      "|total_count|\n",
      "+-----------+\n",
      "|    1855296|\n",
      "+-----------+\n",
      "\n"
     ]
    }
   ],
   "source": [
    "spark.sql(\"SELECT count(*) as total_count FROM usDemo WHERE year = '2010'\").show()"
   ]
  },
  {
   "cell_type": "markdown",
   "metadata": {},
   "source": [
    "### Total Count for Year 2000"
   ]
  },
  {
   "cell_type": "code",
   "execution_count": 7,
   "metadata": {},
   "outputs": [
    {
     "name": "stdout",
     "output_type": "stream",
     "text": [
      "+-----------+\n",
      "|total_count|\n",
      "+-----------+\n",
      "|    1809216|\n",
      "+-----------+\n",
      "\n"
     ]
    }
   ],
   "source": [
    "spark.sql(\"SELECT count(*) as total_count FROM usDemo WHERE year = '2000'\").show()"
   ]
  },
  {
   "cell_type": "code",
   "execution_count": 4,
   "metadata": {},
   "outputs": [
    {
     "name": "stdout",
     "output_type": "stream",
     "text": [
      "+----+----------+--------------------+----------------+\n",
      "|rank|state_name|         county_name|total_population|\n",
      "+----+----------+--------------------+----------------+\n",
      "|   1|California|  Los Angeles County|         9021186|\n",
      "|   2|  Illinois|         Cook County|         4760805|\n",
      "|   3|     Texas|       Harris County|         3719457|\n",
      "|   4|   Arizona|     Maricopa County|         3475293|\n",
      "|   5|California|    San Diego County|         2837930|\n",
      "|   6|California|       Orange County|         2769021|\n",
      "|   7|   Florida|   Miami-Dade County|         2300632|\n",
      "|   8|  New York|        Kings County|         2286552|\n",
      "|   9|     Texas|       Dallas County|         2149494|\n",
      "|  10|  New York|       Queens County|         2056083|\n",
      "|  11|California|    Riverside County|         1995011|\n",
      "|  12|California|San Bernardino Co...|         1855546|\n",
      "|  13|    Nevada|        Clark County|         1792603|\n",
      "|  14|Washington|         King County|         1777171|\n",
      "|  15|  Michigan|        Wayne County|         1667815|\n",
      "|  16|     Texas|      Tarrant County|         1646668|\n",
      "|  17|California|  Santa Clara County|         1629703|\n",
      "|  18|   Florida|      Broward County|         1603284|\n",
      "|  19|     Texas|        Bexar County|         1562282|\n",
      "|  20|  New York|     New York County|         1478907|\n",
      "+----+----------+--------------------+----------------+\n",
      "only showing top 20 rows\n",
      "\n"
     ]
    }
   ],
   "source": [
    "# Total population by state and county\n",
    "# Note: Records that have null values in the following columns: sex, race, min_age, max_age\n",
    "#       need to be filtered out. Otherwise overcounting occurs.\n",
    "#       Null in those columns, represents (Across all {sex, race, age})\n",
    "spark.sql(\"\"\"\n",
    "        SELECT\n",
    "            RANK() OVER (   \n",
    "                ORDER BY total_population DESC) AS rank, \n",
    "                *\n",
    "        FROM\n",
    "            (SELECT \n",
    "                state_name, county_name, sum(population) AS total_population \n",
    "            FROM usDemo\n",
    "            WHERE year = '2010' AND race is NOT NULL AND sex is NOT NULL \n",
    "                  AND min_age is NOT NULL AND max_age is NOT NULL\n",
    "            GROUP BY state_name, county_name) as a\n",
    "\"\"\").show()"
   ]
  },
  {
   "cell_type": "markdown",
   "metadata": {},
   "source": [
    "### Unique Race Values"
   ]
  },
  {
   "cell_type": "code",
   "execution_count": 5,
   "metadata": {},
   "outputs": [
    {
     "name": "stdout",
     "output_type": "stream",
     "text": [
      "+----------------+\n",
      "|            race|\n",
      "+----------------+\n",
      "| Native Hawaiian|\n",
      "|            null|\n",
      "|African American|\n",
      "|           Other|\n",
      "| American Indian|\n",
      "|           Mixed|\n",
      "|           White|\n",
      "|           Asian|\n",
      "+----------------+\n",
      "\n"
     ]
    }
   ],
   "source": [
    "# Normalize race values \n",
    "spark.sql(\"\"\"\n",
    "    SELECT DISTINCT race\n",
    "    FROM (    \n",
    "        SELECT\n",
    "            CASE \n",
    "                WHEN race like 'AMERICAN INDIAN%' then 'American Indian'\n",
    "                WHEN race like 'SOME OTHER RACE%' then 'Other'\n",
    "                WHEN race like 'WHITE%' then 'White'\n",
    "                WHEN race like 'ASIAN%' then 'Asian'\n",
    "                WHEN race like 'NATIVE HAWAIIAN%' then 'Native Hawaiian'\n",
    "                WHEN race like 'TWO OR MORE%' then 'Mixed'\n",
    "                WHEN race like 'BLACK%' then 'African American'\n",
    "            END as race\n",
    "        FROM usDemo) as a\n",
    "\"\"\").show()"
   ]
  },
  {
   "cell_type": "markdown",
   "metadata": {},
   "source": [
    "### Population by State, County, and Race"
   ]
  },
  {
   "cell_type": "code",
   "execution_count": 7,
   "metadata": {},
   "outputs": [],
   "source": [
    "# Normalize and Select relative columns\n",
    "# Note: Records that have null values in the following columns: sex, race, min_age, max_age\n",
    "#       need to be filtered out. Otherwise overcounting occurs.\n",
    "#       Null in those columns, represents (Across all {sex, race, age})\n",
    "usDemoNorm = spark.sql(\"\"\"   \n",
    "                        SELECT\n",
    "                            state_name,\n",
    "                            county_name,\n",
    "                            sex,\n",
    "                            min_age,\n",
    "                            max_age,\n",
    "                            year,\n",
    "                            CASE \n",
    "                                WHEN race like 'AMERICAN INDIAN%' then 'American Indian'\n",
    "                                WHEN race like 'SOME OTHER RACE%' then 'Other'\n",
    "                                WHEN race like 'WHITE%' then 'White'\n",
    "                                WHEN race like 'ASIAN%' then 'Asian'\n",
    "                                WHEN race like 'NATIVE HAWAIIAN%' then 'Native Hawaiian'\n",
    "                                WHEN race like 'TWO OR MORE%' then 'Mixed'\n",
    "                                WHEN race like 'BLACK%' then 'African American'\n",
    "                            END as race,\n",
    "                            population\n",
    "                        FROM usDemo\n",
    "                        WHERE year = '2010' AND race is NOT NULL AND sex is NOT NULL \n",
    "                              AND min_age is NOT NULL AND max_age is NOT NULL\n",
    "                        \"\"\")\n",
    "usDemoNorm.createOrReplaceTempView('usDemoNorm')"
   ]
  },
  {
   "cell_type": "code",
   "execution_count": 8,
   "metadata": {
    "scrolled": true
   },
   "outputs": [
    {
     "name": "stdout",
     "output_type": "stream",
     "text": [
      "+----------+--------------+------+----------------+----------+\n",
      "|state_name|   county_name|   sex|            race|population|\n",
      "+----------+--------------+------+----------------+----------+\n",
      "|   Alabama|Autauga County|Female|           White|     20152|\n",
      "|   Alabama|Autauga County|Female|African American|      4748|\n",
      "|   Alabama|Autauga County|Female|           Mixed|       394|\n",
      "|   Alabama|Autauga County|Female|           Asian|       262|\n",
      "|   Alabama|Autauga County|Female|           Other|       207|\n",
      "|   Alabama|Autauga County|Female| American Indian|       122|\n",
      "|   Alabama|Autauga County|Female| Native Hawaiian|        12|\n",
      "|   Alabama|Autauga County|  Male|           White|     19549|\n",
      "|   Alabama|Autauga County|  Male|African American|      4151|\n",
      "|   Alabama|Autauga County|  Male|           Mixed|       322|\n",
      "|   Alabama|Autauga County|  Male|           Other|       212|\n",
      "|   Alabama|Autauga County|  Male|           Asian|       184|\n",
      "|   Alabama|Autauga County|  Male| American Indian|       106|\n",
      "|   Alabama|Autauga County|  Male| Native Hawaiian|        20|\n",
      "|   Alabama|Baldwin County|Female|           White|     73548|\n",
      "|   Alabama|Baldwin County|Female|African American|      8085|\n",
      "|   Alabama|Baldwin County|Female|           Other|      1295|\n",
      "|   Alabama|Baldwin County|Female|           Mixed|      1148|\n",
      "|   Alabama|Baldwin County|Female|           Asian|       774|\n",
      "|   Alabama|Baldwin County|Female| American Indian|       582|\n",
      "+----------+--------------+------+----------------+----------+\n",
      "only showing top 20 rows\n",
      "\n"
     ]
    }
   ],
   "source": [
    "# Population by state, county, sex and race\n",
    "spark.sql(\"\"\"\n",
    "            SELECT \n",
    "                state_name, county_name, sex, race, sum(population) AS population \n",
    "            FROM usDemoNorm\n",
    "            GROUP BY state_name, county_name, sex, race\n",
    "            ORDER BY state_name, county_name, sex, population DESC\n",
    "\"\"\").show()"
   ]
  },
  {
   "cell_type": "code",
   "execution_count": 10,
   "metadata": {
    "scrolled": true
   },
   "outputs": [
    {
     "name": "stdout",
     "output_type": "stream",
     "text": [
      "+----+----------+--------------------+----------+\n",
      "|rank|state_name|         county_name|population|\n",
      "+----+----------+--------------------+----------+\n",
      "|   1|California|  Los Angeles County|   9021186|\n",
      "|   2|  Illinois|         Cook County|   4760805|\n",
      "|   3|     Texas|       Harris County|   3719457|\n",
      "|   4|   Arizona|     Maricopa County|   3475293|\n",
      "|   5|California|    San Diego County|   2837930|\n",
      "|   6|California|       Orange County|   2769021|\n",
      "|   7|   Florida|   Miami-Dade County|   2300632|\n",
      "|   8|  New York|        Kings County|   2286552|\n",
      "|   9|     Texas|       Dallas County|   2149494|\n",
      "|  10|  New York|       Queens County|   2056083|\n",
      "|  11|California|    Riverside County|   1995011|\n",
      "|  12|California|San Bernardino Co...|   1855546|\n",
      "|  13|    Nevada|        Clark County|   1792603|\n",
      "|  14|Washington|         King County|   1777171|\n",
      "|  15|  Michigan|        Wayne County|   1667815|\n",
      "|  16|     Texas|      Tarrant County|   1646668|\n",
      "|  17|California|  Santa Clara County|   1629703|\n",
      "|  18|   Florida|      Broward County|   1603284|\n",
      "|  19|     Texas|        Bexar County|   1562282|\n",
      "|  20|  New York|     New York County|   1478907|\n",
      "+----+----------+--------------------+----------+\n",
      "only showing top 20 rows\n",
      "\n"
     ]
    }
   ],
   "source": [
    "# Total population by state and county\n",
    "spark.sql(\"\"\"\n",
    "        SELECT\n",
    "            RANK() OVER (   \n",
    "                ORDER BY population DESC) AS rank, \n",
    "                *\n",
    "        FROM\n",
    "            (SELECT \n",
    "                state_name, county_name, sum(population) AS population \n",
    "            FROM usDemoNorm\n",
    "            GROUP BY state_name, county_name) as a\n",
    "\"\"\").show()"
   ]
  },
  {
   "cell_type": "markdown",
   "metadata": {},
   "source": [
    "### California, Los Angeles County Subset"
   ]
  },
  {
   "cell_type": "code",
   "execution_count": 12,
   "metadata": {},
   "outputs": [
    {
     "name": "stdout",
     "output_type": "stream",
     "text": [
      "+----------+------------------+------+----------------+----------+\n",
      "|state_name|       county_name|   sex|            race|population|\n",
      "+----------+------------------+------+----------------+----------+\n",
      "|California|Los Angeles County|  Male|           White|   2277232|\n",
      "|California|Los Angeles County|Female|           White|   2265836|\n",
      "|California|Los Angeles County|  Male|           Other|    979288|\n",
      "|California|Los Angeles County|Female|           Other|    963015|\n",
      "|California|Los Angeles County|Female|           Asian|    674197|\n",
      "|California|Los Angeles County|  Male|           Asian|    591477|\n",
      "|California|Los Angeles County|Female|African American|    420898|\n",
      "|California|Los Angeles County|  Male|African American|    372768|\n",
      "|California|Los Angeles County|Female|           Mixed|    195525|\n",
      "|California|Los Angeles County|  Male|           Mixed|    189405|\n",
      "|California|Los Angeles County|  Male| American Indian|     34586|\n",
      "|California|Los Angeles County|Female| American Indian|     32832|\n",
      "|California|Los Angeles County|Female| Native Hawaiian|     12194|\n",
      "|California|Los Angeles County|  Male| Native Hawaiian|     11933|\n",
      "+----------+------------------+------+----------------+----------+\n",
      "\n"
     ]
    }
   ],
   "source": [
    "# Group by state, county, sex and race\n",
    "spark.sql(\"\"\" \n",
    "    SELECT \n",
    "        state_name, county_name, sex, race, sum(population) AS population \n",
    "    FROM usDemoNorm\n",
    "    WHERE state_name = 'California' and county_name = 'Los Angeles County'\n",
    "    GROUP BY state_name, county_name, sex, race\n",
    "    ORDER BY population DESC, sex\n",
    "\"\"\").show(25)"
   ]
  },
  {
   "cell_type": "markdown",
   "metadata": {},
   "source": [
    "### New York, Queens County Subset"
   ]
  },
  {
   "cell_type": "code",
   "execution_count": 17,
   "metadata": {},
   "outputs": [
    {
     "name": "stdout",
     "output_type": "stream",
     "text": [
      "+----------+-------------+------+----------------+----------+\n",
      "|state_name|  county_name|   sex|            race|population|\n",
      "+----------+-------------+------+----------------+----------+\n",
      "|  New York|Queens County|Female|           White|    410642|\n",
      "|  New York|Queens County|  Male|           White|    398756|\n",
      "|  New York|Queens County|Female|           Asian|    246113|\n",
      "|  New York|Queens County|  Male|           Asian|    233225|\n",
      "|  New York|Queens County|Female|African American|    218094|\n",
      "|  New York|Queens County|  Male|African American|    177294|\n",
      "|  New York|Queens County|  Male|           Other|    136548|\n",
      "|  New York|Queens County|Female|           Other|    128769|\n",
      "|  New York|Queens County|Female|           Mixed|     46749|\n",
      "|  New York|Queens County|  Male|           Mixed|     44720|\n",
      "|  New York|Queens County|  Male| American Indian|      7259|\n",
      "|  New York|Queens County|Female| American Indian|      6529|\n",
      "|  New York|Queens County|Female| Native Hawaiian|       699|\n",
      "|  New York|Queens County|  Male| Native Hawaiian|       686|\n",
      "+----------+-------------+------+----------------+----------+\n",
      "\n"
     ]
    }
   ],
   "source": [
    "# Group by state, county, sex and race\n",
    "spark.sql(\"\"\" \n",
    "    SELECT \n",
    "        state_name, county_name, sex, race, sum(population) AS population \n",
    "    FROM usDemoNorm\n",
    "    WHERE state_name = 'New York' and county_name = 'Queens County'\n",
    "    GROUP BY state_name, county_name, sex, race\n",
    "    ORDER BY population DESC, sex\n",
    "\"\"\").show(25)"
   ]
  }
 ],
 "metadata": {
  "kernelspec": {
   "display_name": "Python 3",
   "language": "python",
   "name": "python3"
  },
  "language_info": {
   "codemirror_mode": {
    "name": "ipython",
    "version": 3
   },
   "file_extension": ".py",
   "mimetype": "text/x-python",
   "name": "python",
   "nbconvert_exporter": "python",
   "pygments_lexer": "ipython3",
   "version": "3.6.9"
  }
 },
 "nbformat": 4,
 "nbformat_minor": 2
}
