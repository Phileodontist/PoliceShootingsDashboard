{
 "cells": [
  {
   "cell_type": "markdown",
   "metadata": {},
   "source": [
    "# Data Exploration for Police Shooting Data\n",
    "\n",
    "**[Synopsis] The following explores the Police Shootings dataset pertaining to the Police Shooting Dashboard**\n",
    "\n",
    "**Note:** Can schedule a weekly download of this dataset, since it updates frequently.\n",
    "\n",
    "**Reference**:\n",
    "* [Police Shootings Data](https://raw.githubusercontent.com/washingtonpost/data-police-shootings/master/fatal-police-shootings-data.csv)\n",
    "\n",
    "*****"
   ]
  },
  {
   "cell_type": "code",
   "execution_count": 5,
   "metadata": {},
   "outputs": [
    {
     "data": {
      "text/plain": [
       "['config.ini']"
      ]
     },
     "execution_count": 5,
     "metadata": {},
     "output_type": "execute_result"
    }
   ],
   "source": [
    "import requests\n",
    "import configparser\n",
    "config = configparser.ConfigParser()\n",
    "config.read('config.ini')"
   ]
  },
  {
   "cell_type": "code",
   "execution_count": 6,
   "metadata": {},
   "outputs": [],
   "source": [
    "from pyspark.sql import SparkSession\n",
    "from pyspark.sql import functions as func\n",
    "from pyspark.sql.types import StructType, StructField, StringType, DateType, IntegerType, BooleanType, FloatType\n",
    "\n",
    "spark = SparkSession.builder.master('local[*]').appName('DataExploration').getOrCreate()"
   ]
  },
  {
   "cell_type": "markdown",
   "metadata": {},
   "source": [
    "## Police Shooting Data"
   ]
  },
  {
   "cell_type": "code",
   "execution_count": 7,
   "metadata": {},
   "outputs": [],
   "source": [
    "# Schema of the Police Shootings Dataset\n",
    "psSchema = StructType([\\\n",
    "                       StructField('id', IntegerType(), False),\n",
    "                       StructField('name', StringType(), True),\n",
    "                       StructField('date', DateType(), True),\n",
    "                       StructField('manner_of_death', StringType(), True),\n",
    "                       StructField('armed', StringType(), True),\n",
    "                       StructField('age', IntegerType(), True),\n",
    "                       StructField('gender', StringType(), True),\n",
    "                       StructField('race', StringType(), True),\n",
    "                       StructField('city', StringType(), True),\n",
    "                       StructField('state', StringType(), True),\n",
    "                       StructField('s_o_m_i', BooleanType(), True),\n",
    "                       StructField('threat_level', StringType(), True),\n",
    "                       StructField('flee', StringType(), True),\n",
    "                       StructField('body_camera', BooleanType(), True),\n",
    "                       StructField('longitude', FloatType(), True),\n",
    "                       StructField('latitude', FloatType(), True),\n",
    "                       StructField('is_geocoding_exact', BooleanType(), True)\n",
    "                        ])"
   ]
  },
  {
   "cell_type": "code",
   "execution_count": 8,
   "metadata": {},
   "outputs": [],
   "source": [
    "# Creating Dataframe and Temp View\n",
    "psDF = spark.read.option('header', 'True').schema(psSchema).csv(config['pathways']['policeShootings'])\n",
    "psDF.createOrReplaceTempView('policeShootings')"
   ]
  },
  {
   "cell_type": "markdown",
   "metadata": {},
   "source": [
    "### Preview of the Data"
   ]
  },
  {
   "cell_type": "code",
   "execution_count": 9,
   "metadata": {},
   "outputs": [
    {
     "name": "stdout",
     "output_type": "stream",
     "text": [
      "+---+------------------+----------+----------------+----------+---+------+----+-------------+-----+\n",
      "| id|              name|      date| manner_of_death|     armed|age|gender|race|         city|state|\n",
      "+---+------------------+----------+----------------+----------+---+------+----+-------------+-----+\n",
      "|  3|        Tim Elliot|2015-01-02|            shot|       gun| 53|     M|   A|      Shelton|   WA|\n",
      "|  4|  Lewis Lee Lembke|2015-01-02|            shot|       gun| 47|     M|   W|        Aloha|   OR|\n",
      "|  5|John Paul Quintero|2015-01-03|shot and Tasered|   unarmed| 23|     M|   H|      Wichita|   KS|\n",
      "|  8|   Matthew Hoffman|2015-01-04|            shot|toy weapon| 32|     M|   W|San Francisco|   CA|\n",
      "|  9| Michael Rodriguez|2015-01-04|            shot|  nail gun| 39|     M|   H|        Evans|   CO|\n",
      "+---+------------------+----------+----------------+----------+---+------+----+-------------+-----+\n",
      "only showing top 5 rows\n",
      "\n"
     ]
    }
   ],
   "source": [
    "# First half of the columns\n",
    "psDF.select('id', 'name', 'date', 'manner_of_death', 'armed', 'age', 'gender', 'race', 'city', 'state').show(5)"
   ]
  },
  {
   "cell_type": "code",
   "execution_count": 10,
   "metadata": {},
   "outputs": [
    {
     "name": "stdout",
     "output_type": "stream",
     "text": [
      "+-------+------------+-----------+-----------+---------+--------+------------------+\n",
      "|s_o_m_i|threat_level|       flee|body_camera|longitude|latitude|is_geocoding_exact|\n",
      "+-------+------------+-----------+-----------+---------+--------+------------------+\n",
      "|   true|      attack|Not fleeing|      false| -123.122|  47.247|              true|\n",
      "|  false|      attack|Not fleeing|      false| -122.892|  45.487|              true|\n",
      "|  false|       other|Not fleeing|      false|  -97.281|  37.695|              true|\n",
      "|   true|      attack|Not fleeing|      false| -122.422|  37.763|              true|\n",
      "|  false|      attack|Not fleeing|      false| -104.692|  40.384|              true|\n",
      "+-------+------------+-----------+-----------+---------+--------+------------------+\n",
      "only showing top 5 rows\n",
      "\n"
     ]
    }
   ],
   "source": [
    "# Second half of the columns\n",
    "psDF.select('s_o_m_i', 'threat_level', 'flee', 'body_camera', \n",
    "            'longitude', 'latitude', 'is_geocoding_exact').show(5)"
   ]
  },
  {
   "cell_type": "markdown",
   "metadata": {},
   "source": [
    "### Relevant Columns for Joining to Other Datasets"
   ]
  },
  {
   "cell_type": "code",
   "execution_count": 7,
   "metadata": {},
   "outputs": [
    {
     "name": "stdout",
     "output_type": "stream",
     "text": [
      "+---+------------------+----------+-------------+-----+\n",
      "| id|              name|      date|         city|state|\n",
      "+---+------------------+----------+-------------+-----+\n",
      "|  3|        Tim Elliot|2015-01-02|      Shelton|   WA|\n",
      "|  4|  Lewis Lee Lembke|2015-01-02|        Aloha|   OR|\n",
      "|  5|John Paul Quintero|2015-01-03|      Wichita|   KS|\n",
      "|  8|   Matthew Hoffman|2015-01-04|San Francisco|   CA|\n",
      "|  9| Michael Rodriguez|2015-01-04|        Evans|   CO|\n",
      "+---+------------------+----------+-------------+-----+\n",
      "only showing top 5 rows\n",
      "\n"
     ]
    }
   ],
   "source": [
    "# Select relevant columns\n",
    "psDF.select('id', 'name', 'date', 'city', 'state').show(5)"
   ]
  },
  {
   "cell_type": "markdown",
   "metadata": {},
   "source": [
    "### Relevant Columns to the Shooting"
   ]
  },
  {
   "cell_type": "code",
   "execution_count": 8,
   "metadata": {},
   "outputs": [
    {
     "name": "stdout",
     "output_type": "stream",
     "text": [
      "+--------------------+----------+----------------+----------+---+------+----+-------+------------+-----------+-----------+\n",
      "|                name|      date| manner_of_death|     armed|age|gender|race|s_o_m_i|threat_level|       flee|body_camera|\n",
      "+--------------------+----------+----------------+----------+---+------+----+-------+------------+-----------+-----------+\n",
      "|          Tim Elliot|2015-01-02|            shot|       gun| 53|     M|   A|   true|      attack|Not fleeing|      false|\n",
      "|    Lewis Lee Lembke|2015-01-02|            shot|       gun| 47|     M|   W|  false|      attack|Not fleeing|      false|\n",
      "|  John Paul Quintero|2015-01-03|shot and Tasered|   unarmed| 23|     M|   H|  false|       other|Not fleeing|      false|\n",
      "|     Matthew Hoffman|2015-01-04|            shot|toy weapon| 32|     M|   W|   true|      attack|Not fleeing|      false|\n",
      "|   Michael Rodriguez|2015-01-04|            shot|  nail gun| 39|     M|   H|  false|      attack|Not fleeing|      false|\n",
      "|   Kenneth Joe Brown|2015-01-04|            shot|       gun| 18|     M|   W|  false|      attack|Not fleeing|      false|\n",
      "| Kenneth Arnold Buck|2015-01-05|            shot|       gun| 22|     M|   H|  false|      attack|        Car|      false|\n",
      "|       Brock Nichols|2015-01-06|            shot|       gun| 35|     M|   W|  false|      attack|Not fleeing|      false|\n",
      "|       Autumn Steele|2015-01-06|            shot|   unarmed| 34|     F|   W|  false|       other|Not fleeing|       true|\n",
      "|     Leslie Sapp III|2015-01-06|            shot|toy weapon| 47|     M|   B|  false|      attack|Not fleeing|      false|\n",
      "|      Patrick Wetter|2015-01-06|shot and Tasered|     knife| 25|     M|   W|  false|      attack|Not fleeing|      false|\n",
      "|           Ron Sneed|2015-01-07|            shot|       gun| 31|     M|   B|  false|      attack|Not fleeing|      false|\n",
      "|Hashim Hanif Ibn ...|2015-01-07|            shot|     knife| 41|     M|   B|   true|       other|Not fleeing|      false|\n",
      "|Nicholas Ryan Bri...|2015-01-07|            shot|       gun| 30|     M|   W|  false|      attack|        Car|      false|\n",
      "|Omarr Julian Maxi...|2015-01-07|            shot|       gun| 37|     M|   B|  false|      attack|       Foot|       true|\n",
      "|       Loren Simpson|2015-01-08|            shot|      null| 28|     M|   W|  false|undetermined|Not fleeing|      false|\n",
      "| James Dudley Barker|2015-01-08|            shot|    shovel| 42|     M|   W|  false|      attack|Not fleeing|       true|\n",
      "| Artago Damon Howard|2015-01-08|            shot|   unarmed| 36|     M|   B|  false|      attack|Not fleeing|      false|\n",
      "|        Thomas Hamby|2015-01-08|            shot|       gun| 49|     M|   W|  false|      attack|Not fleeing|       true|\n",
      "|       Jimmy Foreman|2015-01-09|            shot|       gun| 71|     M|   W|  false|      attack|Not fleeing|      false|\n",
      "+--------------------+----------+----------------+----------+---+------+----+-------+------------+-----------+-----------+\n",
      "only showing top 20 rows\n",
      "\n"
     ]
    }
   ],
   "source": [
    "# Select relevant columns\n",
    "psDF.select('name', 'date', 'manner_of_death', 'armed', 'age', 'gender', 'race', 's_o_m_i', 'threat_level', 'flee', 'body_camera').show(20)"
   ]
  },
  {
   "cell_type": "markdown",
   "metadata": {},
   "source": [
    "### Context of the shooting"
   ]
  },
  {
   "cell_type": "code",
   "execution_count": 9,
   "metadata": {},
   "outputs": [
    {
     "name": "stdout",
     "output_type": "stream",
     "text": [
      "+----------------+----------+----+-------+------------+-----------+-----------+\n",
      "| manner_of_death|     armed|race|s_o_m_i|threat_level|       flee|body_camera|\n",
      "+----------------+----------+----+-------+------------+-----------+-----------+\n",
      "|            shot|       gun|   A|   true|      attack|Not fleeing|      false|\n",
      "|            shot|       gun|   W|  false|      attack|Not fleeing|      false|\n",
      "|shot and Tasered|   unarmed|   H|  false|       other|Not fleeing|      false|\n",
      "|            shot|toy weapon|   W|   true|      attack|Not fleeing|      false|\n",
      "|            shot|  nail gun|   H|  false|      attack|Not fleeing|      false|\n",
      "|            shot|       gun|   W|  false|      attack|Not fleeing|      false|\n",
      "|            shot|       gun|   H|  false|      attack|        Car|      false|\n",
      "|            shot|       gun|   W|  false|      attack|Not fleeing|      false|\n",
      "|            shot|   unarmed|   W|  false|       other|Not fleeing|       true|\n",
      "|            shot|toy weapon|   B|  false|      attack|Not fleeing|      false|\n",
      "|shot and Tasered|     knife|   W|  false|      attack|Not fleeing|      false|\n",
      "|            shot|       gun|   B|  false|      attack|Not fleeing|      false|\n",
      "|            shot|     knife|   B|   true|       other|Not fleeing|      false|\n",
      "|            shot|       gun|   W|  false|      attack|        Car|      false|\n",
      "|            shot|       gun|   B|  false|      attack|       Foot|       true|\n",
      "|            shot|      null|   W|  false|undetermined|Not fleeing|      false|\n",
      "|            shot|    shovel|   W|  false|      attack|Not fleeing|       true|\n",
      "|            shot|   unarmed|   B|  false|      attack|Not fleeing|      false|\n",
      "|            shot|       gun|   W|  false|      attack|Not fleeing|       true|\n",
      "|            shot|       gun|   W|  false|      attack|Not fleeing|      false|\n",
      "+----------------+----------+----+-------+------------+-----------+-----------+\n",
      "only showing top 20 rows\n",
      "\n"
     ]
    }
   ],
   "source": [
    "# Looking at manner of death and situation details\n",
    "spark.sql(\"SELECT manner_of_death, armed, race, s_o_m_i, threat_level, flee, body_camera FROM policeShootings\").show(20)"
   ]
  },
  {
   "cell_type": "markdown",
   "metadata": {},
   "source": [
    "### Unique Values of Manner of Death & Count"
   ]
  },
  {
   "cell_type": "code",
   "execution_count": 10,
   "metadata": {},
   "outputs": [
    {
     "name": "stdout",
     "output_type": "stream",
     "text": [
      "+----------------+\n",
      "| manner_of_death|\n",
      "+----------------+\n",
      "|shot and Tasered|\n",
      "|            shot|\n",
      "+----------------+\n",
      "\n"
     ]
    }
   ],
   "source": [
    "# Manner of death\n",
    "spark.sql(\"SELECT DISTINCT manner_of_death FROM policeShootings\").show()"
   ]
  },
  {
   "cell_type": "code",
   "execution_count": 11,
   "metadata": {},
   "outputs": [
    {
     "name": "stdout",
     "output_type": "stream",
     "text": [
      "+----------------+-----+\n",
      "| manner_of_death|count|\n",
      "+----------------+-----+\n",
      "|            shot| 6202|\n",
      "|shot and Tasered|  331|\n",
      "+----------------+-----+\n",
      "\n"
     ]
    }
   ],
   "source": [
    "# Number of deaths by method of fleeing\n",
    "spark.sql(\"SELECT manner_of_death, count(*) as count FROM policeShootings GROUP BY manner_of_death ORDER BY count DESC\").show()"
   ]
  },
  {
   "cell_type": "markdown",
   "metadata": {},
   "source": [
    "### Unique Values of Armed & Count"
   ]
  },
  {
   "cell_type": "code",
   "execution_count": 12,
   "metadata": {},
   "outputs": [
    {
     "name": "stdout",
     "output_type": "stream",
     "text": [
      "+-------------------+\n",
      "|              armed|\n",
      "+-------------------+\n",
      "|         metal pole|\n",
      "|         motorcycle|\n",
      "|           crossbow|\n",
      "|                pen|\n",
      "|           nail gun|\n",
      "|  incendiary device|\n",
      "| contractor's level|\n",
      "|     Airsoft pistol|\n",
      "|              knife|\n",
      "|    hatchet and gun|\n",
      "|            stapler|\n",
      "|guns and explosives|\n",
      "|       bean-bag gun|\n",
      "|         microphone|\n",
      "|            unarmed|\n",
      "|          tire iron|\n",
      "|        garden tool|\n",
      "|               null|\n",
      "|             wrench|\n",
      "|  knife and vehicle|\n",
      "+-------------------+\n",
      "only showing top 20 rows\n",
      "\n"
     ]
    }
   ],
   "source": [
    "# Armed\n",
    "spark.sql(\"SELECT DISTINCT armed FROM policeShootings\").show()"
   ]
  },
  {
   "cell_type": "code",
   "execution_count": 13,
   "metadata": {},
   "outputs": [
    {
     "name": "stdout",
     "output_type": "stream",
     "text": [
      "+---------------+-----+\n",
      "|          armed|count|\n",
      "+---------------+-----+\n",
      "|            gun| 3761|\n",
      "|          knife|  948|\n",
      "|        unarmed|  419|\n",
      "|     toy weapon|  223|\n",
      "|        vehicle|  212|\n",
      "|           null|  207|\n",
      "|   undetermined|  182|\n",
      "| unknown weapon|   82|\n",
      "|        machete|   50|\n",
      "|          Taser|   33|\n",
      "|             ax|   24|\n",
      "|          sword|   23|\n",
      "|  gun and knife|   22|\n",
      "|   baseball bat|   20|\n",
      "|         hammer|   18|\n",
      "|gun and vehicle|   17|\n",
      "|    screwdriver|   16|\n",
      "|     metal pipe|   16|\n",
      "|        hatchet|   14|\n",
      "|         BB gun|   14|\n",
      "+---------------+-----+\n",
      "only showing top 20 rows\n",
      "\n"
     ]
    }
   ],
   "source": [
    "# Number of deaths by weapon\n",
    "spark.sql(\"SELECT armed, count(*) as count FROM policeShootings GROUP BY armed ORDER BY count DESC\").show()"
   ]
  },
  {
   "cell_type": "markdown",
   "metadata": {},
   "source": [
    "### Unique Values of Flee & Count"
   ]
  },
  {
   "cell_type": "code",
   "execution_count": 14,
   "metadata": {},
   "outputs": [
    {
     "name": "stdout",
     "output_type": "stream",
     "text": [
      "+-----------+\n",
      "|       flee|\n",
      "+-----------+\n",
      "|Not fleeing|\n",
      "|       null|\n",
      "|       Foot|\n",
      "|        Car|\n",
      "|      Other|\n",
      "+-----------+\n",
      "\n"
     ]
    }
   ],
   "source": [
    "spark.sql(\"SELECT DISTINCT flee FROM policeShootings\").show()"
   ]
  },
  {
   "cell_type": "code",
   "execution_count": 15,
   "metadata": {},
   "outputs": [
    {
     "name": "stdout",
     "output_type": "stream",
     "text": [
      "+-----------+-----+\n",
      "|       flee|count|\n",
      "+-----------+-----+\n",
      "|Not fleeing| 3929|\n",
      "|        Car| 1051|\n",
      "|       Foot|  839|\n",
      "|       null|  469|\n",
      "|      Other|  245|\n",
      "+-----------+-----+\n",
      "\n"
     ]
    }
   ],
   "source": [
    "# Number of deaths by method of fleeing\n",
    "spark.sql(\"SELECT flee, count(*) as count FROM policeShootings GROUP BY flee ORDER BY count DESC\").show()"
   ]
  },
  {
   "cell_type": "markdown",
   "metadata": {},
   "source": [
    "### Unique Values of Race & Count"
   ]
  },
  {
   "cell_type": "code",
   "execution_count": 16,
   "metadata": {},
   "outputs": [
    {
     "name": "stdout",
     "output_type": "stream",
     "text": [
      "+--------------+\n",
      "|          race|\n",
      "+--------------+\n",
      "|Not Documented|\n",
      "|         Black|\n",
      "|         Other|\n",
      "|         Asian|\n",
      "|        Native|\n",
      "|         White|\n",
      "|      Hispanic|\n",
      "+--------------+\n",
      "\n"
     ]
    }
   ],
   "source": [
    "# Race\n",
    "spark.sql(\"\"\"\n",
    "            SELECT \n",
    "                CASE\n",
    "                    WHEN race = 'A' THEN 'Asian'\n",
    "                    WHEN race = 'B' THEN 'Black'\n",
    "                    WHEN race = 'N' THEN 'Native'\n",
    "                    WHEN race = 'H' THEN 'Hispanic'\n",
    "                    WHEN race = 'W' THEN 'White'\n",
    "                    WHEN race = 'O' THEN 'Other'\n",
    "                    ELSE 'Not Documented'\n",
    "                END as race\n",
    "                FROM    \n",
    "                  (SELECT DISTINCT race FROM policeShootings) as ps\n",
    "        \"\"\").show()"
   ]
  },
  {
   "cell_type": "code",
   "execution_count": 21,
   "metadata": {},
   "outputs": [
    {
     "name": "stdout",
     "output_type": "stream",
     "text": [
      "+--------------+-----+\n",
      "|          race|count|\n",
      "+--------------+-----+\n",
      "|         White| 2962|\n",
      "|         Black| 1551|\n",
      "|      Hispanic| 1081|\n",
      "|Not Documented|  695|\n",
      "|         Asian|  106|\n",
      "|        Native|   91|\n",
      "|         Other|   47|\n",
      "+--------------+-----+\n",
      "\n"
     ]
    }
   ],
   "source": [
    "# Number of deaths by race\n",
    "policeShootingsNorm = spark.sql(\"\"\"\n",
    "SELECT race, count(*) as count FROM \n",
    "            (SELECT \n",
    "                CASE\n",
    "                    WHEN race = 'A' THEN 'Asian'\n",
    "                    WHEN race = 'B' THEN 'Black'\n",
    "                    WHEN race = 'N' THEN 'Native'\n",
    "                    WHEN race = 'H' THEN 'Hispanic'\n",
    "                    WHEN race = 'W' THEN 'White'\n",
    "                    WHEN race = 'O' THEN 'Other'\n",
    "                    ELSE 'Not Documented'\n",
    "                END as race\n",
    "                FROM    \n",
    "                  policeShootings)\n",
    "                GROUP BY race ORDER BY count DESC\n",
    "\n",
    "\"\"\")\n",
    "policeShootingsNorm.show()"
   ]
  },
  {
   "cell_type": "code",
   "execution_count": 25,
   "metadata": {},
   "outputs": [],
   "source": [
    "policeShootingsNorm = spark.sql(\"\"\"\n",
    "        SELECT \n",
    "            name,\n",
    "            manner_of_death,\n",
    "            armed,\n",
    "            s_o_m_i,\n",
    "            threat_level,\n",
    "            flee,\n",
    "            body_camera,\n",
    "            CASE\n",
    "                WHEN race = 'A' THEN 'Asian'\n",
    "                WHEN race = 'B' THEN 'Black'\n",
    "                WHEN race = 'N' THEN 'Native'\n",
    "                WHEN race = 'H' THEN 'Hispanic'\n",
    "                WHEN race = 'W' THEN 'White'\n",
    "                WHEN race = 'O' THEN 'Other'\n",
    "                ELSE 'Not Documented'\n",
    "            END as race\n",
    "        FROM    \n",
    "          policeShootings\n",
    "\n",
    "\"\"\")\n",
    "policeShootingsNorm.createOrReplaceTempView('policeShootingsNorm')"
   ]
  },
  {
   "cell_type": "markdown",
   "metadata": {},
   "source": [
    "### Exploring Records where NULLs Exist"
   ]
  },
  {
   "cell_type": "code",
   "execution_count": 27,
   "metadata": {},
   "outputs": [
    {
     "name": "stdout",
     "output_type": "stream",
     "text": [
      "+--------------------+----------------+--------------+--------------+-------+------------+-----------+-----------+\n",
      "|                name| manner_of_death|         armed|          race|s_o_m_i|threat_level|       flee|body_camera|\n",
      "+--------------------+----------------+--------------+--------------+-------+------------+-----------+-----------+\n",
      "|    William Campbell|            shot|           gun|Not Documented|  false|      attack|Not fleeing|      false|\n",
      "|  John Marcell Allen|            shot|           gun|Not Documented|  false|      attack|Not fleeing|      false|\n",
      "|          Mark Smith|shot and Tasered|          null|Not Documented|  false|      attack|      Other|      false|\n",
      "|          Joseph Roy|            shot|         knife|Not Documented|   true|       other|Not fleeing|      false|\n",
      "|James Anthony Morris|            shot|           gun|Not Documented|   true|      attack|Not fleeing|      false|\n",
      "|       James Johnson|            shot|           gun|Not Documented|   true|      attack|Not fleeing|      false|\n",
      "|   Raymond  Phillips|            shot|           gun|Not Documented|   true|      attack|Not fleeing|      false|\n",
      "|       Brian Johnson|            shot|      crossbow|Not Documented|   true|      attack|Not fleeing|      false|\n",
      "|    Charles Crandall|            shot|           gun|Not Documented|  false|      attack|Not fleeing|      false|\n",
      "|         David  Cook|            shot|           gun|Not Documented|  false|      attack|Not fleeing|      false|\n",
      "|Robert Patrick Quinn|            shot|    toy weapon|Not Documented|   true|      attack|Not fleeing|      false|\n",
      "|       Bruce Santino|            shot|         knife|Not Documented|   true|       other|Not fleeing|      false|\n",
      "|Donaven Kyle Ande...|            shot|           gun|Not Documented|  false|      attack|Not fleeing|      false|\n",
      "|Michael Donald Clark|            shot|           gun|Not Documented|  false|      attack|Not fleeing|      false|\n",
      "|       Jason Foreman|            shot|           gun|Not Documented|  false|      attack|Not fleeing|      false|\n",
      "|          John Tozzi|            shot|           gun|Not Documented|  false|      attack|Not fleeing|      false|\n",
      "|Martin Arturo Rivera|            shot|           gun|Not Documented|   true|       other|Not fleeing|      false|\n",
      "|         Freddy Baez|            shot|           gun|Not Documented|  false|      attack|Not fleeing|      false|\n",
      "|                null|            shot|           gun|Not Documented|  false|      attack|Not fleeing|      false|\n",
      "|   Efrain Villanueva|            shot|unknown weapon|Not Documented|  false|      attack|       null|      false|\n",
      "+--------------------+----------------+--------------+--------------+-------+------------+-----------+-----------+\n",
      "only showing top 20 rows\n",
      "\n"
     ]
    }
   ],
   "source": [
    "# Shootings where race of victim isn't documented\n",
    "spark.sql(\"\"\"\n",
    "    SELECT name, manner_of_death, armed, race, s_o_m_i, threat_level, flee, body_camera \n",
    "    FROM policeShootingsNorm \n",
    "    WHERE race = 'Not Documented'\n",
    "\"\"\").show()"
   ]
  },
  {
   "cell_type": "code",
   "execution_count": 19,
   "metadata": {},
   "outputs": [
    {
     "name": "stdout",
     "output_type": "stream",
     "text": [
      "+--------------------+----------------+--------------+----+-------+------------+----+-----------+\n",
      "|                name| manner_of_death|         armed|race|s_o_m_i|threat_level|flee|body_camera|\n",
      "+--------------------+----------------+--------------+----+-------+------------+----+-----------+\n",
      "|      Ernesto Gamino|            shot|  undetermined|   H|  false|undetermined|null|      false|\n",
      "|   Randy Allen Smith|            shot|           gun|   B|  false|      attack|null|      false|\n",
      "|     Zachary Grigsby|            shot|           gun|   W|  false|      attack|null|      false|\n",
      "|         Roy Carreon|            shot|         knife|   H|  false|      attack|null|      false|\n",
      "|   Efrain Villanueva|            shot|unknown weapon|null|  false|      attack|null|      false|\n",
      "|        Bettie Jones|            shot|       unarmed|   B|  false|       other|null|      false|\n",
      "|  John Randell Veach|            shot|  undetermined|null|  false|undetermined|null|      false|\n",
      "|John Alan Chamber...|            shot|  undetermined|null|  false|undetermined|null|      false|\n",
      "|       Scott Bennett|            shot|           gun|   B|  false|      attack|null|      false|\n",
      "|  Preston Paul Perez|            shot|       unarmed|   W|  false|undetermined|null|      false|\n",
      "|  James Allen Nickol|            shot|           gun|   W|  false|      attack|null|      false|\n",
      "|Kawme Dejuan Patrick|            shot|           gun|   B|  false|       other|null|      false|\n",
      "|      Joshua Bolster|            shot|         knife|   W|  false|       other|null|      false|\n",
      "|Paul Edward Yacab...|            shot|           gun|   W|  false|      attack|null|      false|\n",
      "| Juan Reynaldo Duran|            shot|           gun|   H|  false|       other|null|      false|\n",
      "|  Kheyanev Littledog|            shot|           gun|   N|  false|       other|null|      false|\n",
      "|         Shawn Pappe|shot and Tasered|         knife|   W|   true|       other|null|      false|\n",
      "|       William Frost|shot and Tasered|         knife|   W|  false|       other|null|      false|\n",
      "| Edward Lowell Hills|            shot|           gun|null|   true|       other|null|      false|\n",
      "|     George Delacruz|            shot|           gun|   H|  false|undetermined|null|      false|\n",
      "+--------------------+----------------+--------------+----+-------+------------+----+-----------+\n",
      "only showing top 20 rows\n",
      "\n"
     ]
    }
   ],
   "source": [
    "# Shootings where victims fled status wasn't documented\n",
    "spark.sql('SELECT name, manner_of_death, armed, race, s_o_m_i, threat_level, flee, body_camera FROM policeShootingsNorm where flee is NULL').show()"
   ]
  },
  {
   "cell_type": "markdown",
   "metadata": {},
   "source": [
    "### San Diego City, California"
   ]
  },
  {
   "cell_type": "code",
   "execution_count": 20,
   "metadata": {},
   "outputs": [
    {
     "name": "stdout",
     "output_type": "stream",
     "text": [
      "+--------------------+----------------+----------+----+-------+------------+-----------+-----------+\n",
      "|                name| manner_of_death|     armed|race|s_o_m_i|threat_level|       flee|body_camera|\n",
      "+--------------------+----------------+----------+----+-------+------------+-----------+-----------+\n",
      "|Fridoon Zalbeg Nehad|            shot|   unarmed|   O|   true|       other|Not fleeing|       true|\n",
      "|        Dennis  Fiel|            shot|       gun|   W|   true|      attack|       Foot|       true|\n",
      "|          Ton Nguyen|            shot|     knife|   A|  false|       other|Not fleeing|      false|\n",
      "|        Robert Hober|            shot|box cutter|   W|  false|       other|Not fleeing|       true|\n",
      "|      Lamontez Jones|            shot|toy weapon|   B|  false|      attack|Not fleeing|      false|\n",
      "|       Joshua Sisson|            shot|     knife|   W|  false|       other|Not fleeing|       true|\n",
      "|Thongsoune Vilaysane|            shot|      null|   A|  false|       other|        Car|       true|\n",
      "|Juan Carlos Ferna...|            shot|       gun|   H|  false|      attack|Not fleeing|       true|\n",
      "|      Jacob Peterson|            shot|toy weapon|   W|   true|      attack|Not fleeing|       true|\n",
      "|                null|            shot|       gun|   B|  false|       other|Not fleeing|      false|\n",
      "|         Raul Rivera|            shot|     knife|   H|   true|       other|Not fleeing|       true|\n",
      "|                null|            shot|       gun|null|  false|      attack|Not fleeing|      false|\n",
      "|       Vaughn Denham|            shot|     chain|   B|  false|      attack|Not fleeing|      false|\n",
      "|   Alfonso Cervantes|            shot|       gun|   H|   true|      attack|Not fleeing|       true|\n",
      "|       Nicholas Bils|            shot|   unarmed|   W|   true|       other|       Foot|      false|\n",
      "|         Ronnie Kong|            shot|       gun|null|  false|      attack|       null|       true|\n",
      "|Leonardo Hurtado ...|            shot|       gun|   H|  false|      attack|       Foot|       true|\n",
      "| Richard Lewis Price|            shot|toy weapon|   B|   true|      attack|Not fleeing|       true|\n",
      "|Jose Alfredo Cast...|shot and Tasered|metal pole|   H|   true|      attack|Not fleeing|       true|\n",
      "|Christopher Templ...|            shot|       gun|null|  false|       other|      Other|      false|\n",
      "+--------------------+----------------+----------+----+-------+------------+-----------+-----------+\n",
      "only showing top 20 rows\n",
      "\n"
     ]
    }
   ],
   "source": [
    "spark.sql(\"\"\"\n",
    "    SELECT name, manner_of_death, armed, race, s_o_m_i, threat_level, flee, body_camera \n",
    "    FROM policeShootingsNorm \n",
    "    WHERE city = 'San Diego'\n",
    "\"\"\").show()"
   ]
  }
 ],
 "metadata": {
  "kernelspec": {
   "display_name": "Python 3",
   "language": "python",
   "name": "python3"
  },
  "language_info": {
   "codemirror_mode": {
    "name": "ipython",
    "version": 3
   },
   "file_extension": ".py",
   "mimetype": "text/x-python",
   "name": "python",
   "nbconvert_exporter": "python",
   "pygments_lexer": "ipython3",
   "version": "3.6.9"
  }
 },
 "nbformat": 4,
 "nbformat_minor": 2
}
