{
 "cells": [
  {
   "cell_type": "markdown",
   "metadata": {},
   "source": [
    "# Data Exploration: Combining all datasets together"
   ]
  },
  {
   "cell_type": "code",
   "execution_count": 1,
   "metadata": {},
   "outputs": [
    {
     "data": {
      "text/plain": [
       "['config.ini']"
      ]
     },
     "execution_count": 1,
     "metadata": {},
     "output_type": "execute_result"
    }
   ],
   "source": [
    "import requests\n",
    "import configparser\n",
    "config = configparser.ConfigParser()\n",
    "config.read('config.ini')"
   ]
  },
  {
   "cell_type": "code",
   "execution_count": 2,
   "metadata": {},
   "outputs": [],
   "source": [
    "from pyspark.sql import SparkSession\n",
    "from pyspark.sql import functions as func\n",
    "from pyspark.sql.types import StructType, StructField, StringType, DateType, IntegerType, BooleanType, FloatType\n",
    "\n",
    "spark = SparkSession.builder.master('local[*]').appName('DataExploration').getOrCreate()"
   ]
  },
  {
   "cell_type": "code",
   "execution_count": 3,
   "metadata": {},
   "outputs": [],
   "source": [
    "# Schema of the Police Shootings Dataset\n",
    "psSchema = StructType([\\\n",
    "                       StructField('id', IntegerType(), False),\n",
    "                       StructField('name', StringType(), True),\n",
    "                       StructField('date', DateType(), True),\n",
    "                       StructField('manner_of_death', StringType(), True),\n",
    "                       StructField('armed', StringType(), True),\n",
    "                       StructField('age', IntegerType(), True),\n",
    "                       StructField('gender', StringType(), True),\n",
    "                       StructField('race', StringType(), True),\n",
    "                       StructField('city', StringType(), True),\n",
    "                       StructField('state', StringType(), True),\n",
    "                       StructField('s_o_m_i', BooleanType(), True),\n",
    "                       StructField('threat_level', StringType(), True),\n",
    "                       StructField('flee', StringType(), True),\n",
    "                       StructField('body_camera', BooleanType(), True),\n",
    "                       StructField('longitude', FloatType(), True),\n",
    "                       StructField('latitude', FloatType(), True),\n",
    "                       StructField('is_geocoding_exact', BooleanType(), True)\n",
    "                        ])\n",
    "\n",
    "headersAuth = {\n",
    "    'Authorization': 'Bearer '+ config['unemploymentAPI']['unemploymentAPIKey']\n",
    "}"
   ]
  },
  {
   "cell_type": "code",
   "execution_count": 4,
   "metadata": {},
   "outputs": [],
   "source": [
    "# US Cities and Counties\n",
    "usCitiesDF = spark.read.option('header', 'True').option('inferSchema', 'true').csv(config['pathways']['usCities'])\n",
    "usCitiesDF.createOrReplaceTempView('usCities')\n",
    "\n",
    "# US Demographics\n",
    "usDemoDF = spark.read.option('header', 'true').option('inferSchema', 'true').csv(config['pathways']['usDemographics'])\n",
    "usDemoDF.createOrReplaceTempView('usDemo')\n",
    "\n",
    "# US Unemployment by County\n",
    "endPointTemplate = 'https://api.careeronestop.org/v1/unemployment/{}/{}/{}'\n",
    "url = endPointTemplate.format(config['unemploymentAPI']['unemploymentUserID'], 'CA', 'county')\n",
    "response = requests.get(url, headers=headersAuth, verify=True)\n",
    "response = response.json()['CountyList']\n",
    "caUEDataRDD = spark.sparkContext.parallelize(response)\n",
    "caUEDataDF = spark.read.json(caUEDataRDD)\n",
    "caUEDataDF = caUEDataDF.withColumn(\"State\", func.lit('CA'))\n",
    "caUEDataDF.createOrReplaceTempView('usUnemployment')\n",
    "\n",
    "# Police Shootings\n",
    "psDF = spark.read.option('header', 'True').schema(psSchema).csv(config['pathways']['policeShootings'])\n",
    "psDF.createOrReplaceTempView('policeShootings')"
   ]
  },
  {
   "cell_type": "markdown",
   "metadata": {},
   "source": [
    "## US Cities and Counties\n"
   ]
  },
  {
   "cell_type": "code",
   "execution_count": 5,
   "metadata": {},
   "outputs": [
    {
     "name": "stdout",
     "output_type": "stream",
     "text": [
      "+--------+----------+-----------+-----------+\n",
      "|state_id|state_name|     county|       city|\n",
      "+--------+----------+-----------+-----------+\n",
      "|      NY|  New York|   New York|   New York|\n",
      "|      CA|California|Los Angeles|Los Angeles|\n",
      "|      IL|  Illinois|       Cook|    Chicago|\n",
      "|      FL|   Florida| Miami-Dade|      Miami|\n",
      "|      TX|     Texas|     Dallas|     Dallas|\n",
      "+--------+----------+-----------+-----------+\n",
      "only showing top 5 rows\n",
      "\n"
     ]
    }
   ],
   "source": [
    "usCitiesDF = spark.sql(\"\"\"\n",
    "    SELECT \n",
    "        state_id,\n",
    "        state_name,\n",
    "        county_name as county,\n",
    "        city\n",
    "    FROM usCities\n",
    "\"\"\")\n",
    "\n",
    "usCitiesDF.createOrReplaceTempView('usCitiesNorm')\n",
    "usCitiesDF.show(5)"
   ]
  },
  {
   "cell_type": "markdown",
   "metadata": {},
   "source": [
    "## US Demographics"
   ]
  },
  {
   "cell_type": "code",
   "execution_count": 6,
   "metadata": {},
   "outputs": [
    {
     "name": "stdout",
     "output_type": "stream",
     "text": [
      "+----------+---------------+------+-------+-------+----+---------------+----------+\n",
      "|state_name|    county_name|   sex|min_age|max_age|year|           race|population|\n",
      "+----------+---------------+------+-------+-------+----+---------------+----------+\n",
      "|     Texas|Crockett County|  Male|    5.0|    9.0|2010|          White|       123|\n",
      "|     Texas|Crockett County|Female|   67.0|   69.0|2010|          Asian|         1|\n",
      "|     Texas|Crockett County|Female|   55.0|   59.0|2010|          White|       111|\n",
      "|     Texas|Crockett County|  Male|   21.0|   21.0|2010|          White|         7|\n",
      "|     Texas|Crockett County|Female|   67.0|   69.0|2010|Native Hawaiian|         0|\n",
      "+----------+---------------+------+-------+-------+----+---------------+----------+\n",
      "only showing top 5 rows\n",
      "\n"
     ]
    }
   ],
   "source": [
    "# Normalize and Select relative columns\n",
    "# Note: Records that have null values in the following columns: sex, race, min_age, max_age\n",
    "#       need to be filtered out. Otherwise overcounting occurs.\n",
    "#       Null in those columns, represents (Across all {sex, race, age})\n",
    "usDemoNorm = spark.sql(\"\"\"   \n",
    "                        SELECT\n",
    "                            state_name,\n",
    "                            county_name,\n",
    "                            sex,\n",
    "                            min_age,\n",
    "                            max_age,\n",
    "                            year,\n",
    "                            CASE \n",
    "                                WHEN race like 'AMERICAN INDIAN%' then 'American Indian'\n",
    "                                WHEN race like 'SOME OTHER RACE%' then 'Other'\n",
    "                                WHEN race like 'WHITE%' then 'White'\n",
    "                                WHEN race like 'ASIAN%' then 'Asian'\n",
    "                                WHEN race like 'NATIVE HAWAIIAN%' then 'Native Hawaiian'\n",
    "                                WHEN race like 'TWO OR MORE%' then 'Mixed'\n",
    "                                WHEN race like 'BLACK%' then 'African American'\n",
    "                            END as race,\n",
    "                            population\n",
    "                        FROM usDemo\n",
    "                        WHERE year = '2010' AND race is NOT NULL AND sex is NOT NULL \n",
    "                              AND min_age is NOT NULL AND max_age is NOT NULL\n",
    "                        \"\"\")\n",
    "usDemoNorm.createOrReplaceTempView('usDemoNorm')\n",
    "usDemoNorm.show(5)"
   ]
  },
  {
   "cell_type": "markdown",
   "metadata": {},
   "source": [
    "## Police Shootings"
   ]
  },
  {
   "cell_type": "code",
   "execution_count": 7,
   "metadata": {},
   "outputs": [
    {
     "name": "stdout",
     "output_type": "stream",
     "text": [
      "+---+------------------+----------+----------------+----------+---+------+-------+------------+-----------+-----------+--------+-------------+--------+\n",
      "| id|              name|      date| manner_of_death|     armed|age|gender|s_o_m_i|threat_level|       flee|body_camera|    race|         city|state_id|\n",
      "+---+------------------+----------+----------------+----------+---+------+-------+------------+-----------+-----------+--------+-------------+--------+\n",
      "|  3|        Tim Elliot|2015-01-02|            shot|       gun| 53|     M|   true|      attack|Not fleeing|      false|   Asian|      Shelton|      WA|\n",
      "|  4|  Lewis Lee Lembke|2015-01-02|            shot|       gun| 47|     M|  false|      attack|Not fleeing|      false|   White|        Aloha|      OR|\n",
      "|  5|John Paul Quintero|2015-01-03|shot and Tasered|   unarmed| 23|     M|  false|       other|Not fleeing|      false|Hispanic|      Wichita|      KS|\n",
      "|  8|   Matthew Hoffman|2015-01-04|            shot|toy weapon| 32|     M|   true|      attack|Not fleeing|      false|   White|San Francisco|      CA|\n",
      "|  9| Michael Rodriguez|2015-01-04|            shot|  nail gun| 39|     M|  false|      attack|Not fleeing|      false|Hispanic|        Evans|      CO|\n",
      "+---+------------------+----------+----------------+----------+---+------+-------+------------+-----------+-----------+--------+-------------+--------+\n",
      "only showing top 5 rows\n",
      "\n"
     ]
    }
   ],
   "source": [
    "policeShootingsNorm = spark.sql(\"\"\"\n",
    "        SELECT \n",
    "            id,\n",
    "            name,\n",
    "            date,\n",
    "            manner_of_death,\n",
    "            armed,\n",
    "            age,\n",
    "            gender,\n",
    "            s_o_m_i,\n",
    "            threat_level,\n",
    "            flee,\n",
    "            body_camera,\n",
    "            CASE\n",
    "                WHEN race = 'A' THEN 'Asian'\n",
    "                WHEN race = 'B' THEN 'Black'\n",
    "                WHEN race = 'N' THEN 'Native'\n",
    "                WHEN race = 'H' THEN 'Hispanic'\n",
    "                WHEN race = 'W' THEN 'White'\n",
    "                WHEN race = 'O' THEN 'Other'\n",
    "                ELSE 'Not Documented'\n",
    "            END as race, \n",
    "            city, \n",
    "            state as state_id\n",
    "        FROM    \n",
    "          policeShootings\n",
    "\n",
    "\"\"\")\n",
    "policeShootingsNorm.createOrReplaceTempView('policeShootingsNorm')\n",
    "policeShootingsNorm.show(5)"
   ]
  },
  {
   "cell_type": "markdown",
   "metadata": {},
   "source": [
    "## US Unemployment"
   ]
  },
  {
   "cell_type": "code",
   "execution_count": 8,
   "metadata": {},
   "outputs": [
    {
     "name": "stdout",
     "output_type": "stream",
     "text": [
      "+--------+---------+------------------+-----------------+\n",
      "|state_id|   county|unemployment_count|unemployment_rate|\n",
      "+--------+---------+------------------+-----------------+\n",
      "|      CA|  Alameda|             52111|              6.5|\n",
      "|      CA|   Alpine|                46|              7.6|\n",
      "|      CA|   Amador|              1074|              7.4|\n",
      "|      CA|    Butte|              6917|              7.5|\n",
      "|      CA|Calaveras|              1351|              6.3|\n",
      "+--------+---------+------------------+-----------------+\n",
      "only showing top 5 rows\n",
      "\n"
     ]
    }
   ],
   "source": [
    "caUEDataDF.createOrReplaceTempView(\"caUE\")\n",
    "caUEDataDF = spark.sql(\"\"\"\n",
    "        SELECT \n",
    "            State as state_id, \n",
    "            REPLACE(AreaName, ' County', '') as county,\n",
    "            UnEmpCount as unemployment_count,\n",
    "            UnEmpRate as unemployment_rate\n",
    "        FROM caUE\n",
    "        \"\"\")\n",
    "\n",
    "caUEDataDF.createOrReplaceTempView(\"caUE\")\n",
    "caUEDataDF.show(5)"
   ]
  },
  {
   "cell_type": "markdown",
   "metadata": {},
   "source": [
    "## California Subset"
   ]
  },
  {
   "cell_type": "code",
   "execution_count": 37,
   "metadata": {},
   "outputs": [
    {
     "name": "stdout",
     "output_type": "stream",
     "text": [
      "+----------+--------+--------------------+----------------+------------+----+------+-------+------------+-----------+-----------+--------------+------------------+-----------------+\n",
      "|state_name|  county|                name| manner_of_death|       armed| age|gender|s_o_m_i|threat_level|       flee|body_camera|          race|unemployment_count|unemployment_rate|\n",
      "+----------+--------+--------------------+----------------+------------+----+------+-------+------------+-----------+-----------+--------------+------------------+-----------------+\n",
      "|California|   Kings|      Edgar Espinoza|            shot|       knife|  35|     M|  false|      attack|Not fleeing|      false|      Hispanic|              5816|             10.5|\n",
      "|California|   Kings| Blayne Erwin Morris|            shot|         gun|  23|     M|  false|      attack|        Car|      false|Not Documented|              5816|             10.5|\n",
      "|California|   Kings|       Johnny Castro|            shot|         gun|  43|     M|  false|      attack|        Car|      false|      Hispanic|              5816|             10.5|\n",
      "|California|   Kings|        Dave Phoenix|            shot|  toy weapon|  25|     M|  false|      attack|Not fleeing|      false|        Native|              5816|             10.5|\n",
      "|California|   Kings|Sergio Velasco-Ma...|            shot|blunt object|  25|     M|  false|      attack|Not fleeing|      false|      Hispanic|              5816|             10.5|\n",
      "|California|   Kings|Dominique Antwon ...|            shot|     machete|  26|     M|   true|      attack|Not fleeing|      false|         Black|              5816|             10.5|\n",
      "|California|  Sonoma|        Pablo Garcia|shot and Tasered|       knife|  35|     M|   true|      attack|Not fleeing|       true|      Hispanic|             14431|                6|\n",
      "|California|  Sonoma|         Karen Janks|            shot|        null|  46|     F|  false|      attack|        Car|      false|         White|             14431|                6|\n",
      "|California|  Sonoma|     Victor Gonzalez|            shot|      hammer|  44|     M|  false|       other|Not fleeing|      false|      Hispanic|             14431|                6|\n",
      "|California|    Napa|  Juan Adrian Garcia|            shot|     unarmed|  47|     M|  false|       other|Not fleeing|       true|      Hispanic|              4489|              6.6|\n",
      "|California|    Napa|Brandan Reid Nyla...|            shot|         gun|  24|     M|  false|       other|        Car|      false|         White|              4489|              6.6|\n",
      "|California|    Napa|David Alejandro M...|            shot|         gun|  27|     M|   true|      attack|       Foot|      false|      Hispanic|              4489|              6.6|\n",
      "|California|    Napa|Stephen Connard F...|            shot|         gun|  65|     M|  false|      attack|        Car|      false|         White|              4489|              6.6|\n",
      "|California|    Napa|  Noel Aaron Russell|            shot|       knife|  23|     M|   true|       other|Not fleeing|      false|         White|              4489|              6.6|\n",
      "|California|    Napa|James Richard Jim...|            shot|         gun|  41|     M|  false|       other|      Other|      false|      Hispanic|              4489|              6.6|\n",
      "|California|  Madera|Michael Robert Novak|            shot|       knife|  58|     M|   true|      attack|Not fleeing|       true|         White|              5857|              9.7|\n",
      "|California|  Madera|                null|            shot|undetermined|null|     M|  false|       other|       Foot|      false|Not Documented|              5857|              9.7|\n",
      "|California|  Madera|   Sergio Valdovinos|            shot|     machete|  32|     M|   true|       other|Not fleeing|      false|      Hispanic|              5857|              9.7|\n",
      "|California|  Madera|  Alejandro Alvarado|            shot|       knife|  35|     M|  false|      attack|Not fleeing|      false|      Hispanic|              5857|              9.7|\n",
      "|California|Siskiyou|Daniel Jonathan S...|            shot|undetermined|  31|     M|  false|      attack|Not fleeing|      false|         White|              1549|              9.3|\n",
      "+----------+--------+--------------------+----------------+------------+----+------+-------+------------+-----------+-----------+--------------+------------------+-----------------+\n",
      "only showing top 20 rows\n",
      "\n"
     ]
    }
   ],
   "source": [
    "spark.sql(\"\"\"\n",
    "    SELECT \n",
    "        usc.state_name,\n",
    "        usc.county,\n",
    "        ps.name, \n",
    "        ps.manner_of_death,\n",
    "        ps.armed,\n",
    "        ps.age,\n",
    "        ps.gender,\n",
    "        ps.s_o_m_i,\n",
    "        ps.threat_level,\n",
    "        ps.flee,\n",
    "        ps.body_camera,\n",
    "        ps.race,\n",
    "        ue.unemployment_count,\n",
    "        ue.unemployment_rate\n",
    "    FROM policeShootingsNorm as ps\n",
    "    JOIN usCitiesNorm as usc\n",
    "    ON ps.state_id = usc.state_id and ps.city = usc.city\n",
    "    JOIN caUE as ue \n",
    "    ON ps.state_id = ue.state_id and usc.county = ue.county\n",
    "    WHERE usc.state_name = 'California'\n",
    "\"\"\").show(20)"
   ]
  }
 ],
 "metadata": {
  "kernelspec": {
   "display_name": "Python 3",
   "language": "python",
   "name": "python3"
  },
  "language_info": {
   "codemirror_mode": {
    "name": "ipython",
    "version": 3
   },
   "file_extension": ".py",
   "mimetype": "text/x-python",
   "name": "python",
   "nbconvert_exporter": "python",
   "pygments_lexer": "ipython3",
   "version": "3.6.9"
  }
 },
 "nbformat": 4,
 "nbformat_minor": 2
}
